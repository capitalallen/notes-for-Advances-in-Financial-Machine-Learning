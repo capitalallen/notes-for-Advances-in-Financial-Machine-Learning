{
 "cells": [
  {
   "cell_type": "code",
   "execution_count": 1,
   "metadata": {},
   "outputs": [
    {
     "name": "stdout",
     "output_type": "stream",
     "text": [
      "\n"
     ]
    }
   ],
   "source": [
    "%load_ext autoreload\n",
    "%autoreload 2\n",
    "\n",
    "# get project dir\n",
    "# import standard libs\n",
    "from IPython.display import display\n",
    "from IPython.core.debugger import set_trace as bp\n",
    "from pathlib import PurePath, Path\n",
    "import sys\n",
    "import time\n",
    "from collections import OrderedDict as od\n",
    "import re\n",
    "import os\n",
    "import json\n",
    "\n",
    "pp = PurePath(Path.cwd()).parts[:]\n",
    "pdir = PurePath(*pp)\n",
    "data_script_dir = pdir / 'src' / 'data'\n",
    "bars_script_dir = pdir / 'src' / 'features'\n",
    "sys.path.append(data_script_dir.as_posix())\n",
    "sys.path.append(bars_script_dir.as_posix())\n",
    "viz_dir = pdir / 'reports' / 'figures'\n",
    "data_dir = pdir / 'data'\n",
    "\n",
    "# import python scientific stack\n",
    "import pandas as pd\n",
    "pd.set_option('display.max_rows', 100)\n",
    "from dask import dataframe as dd\n",
    "from dask.diagnostics import ProgressBar\n",
    "from multiprocessing import cpu_count\n",
    "pbar = ProgressBar()\n",
    "pbar.register()\n",
    "import numpy as np\n",
    "import scipy.stats as stats\n",
    "import statsmodels.api as sm\n",
    "from numba import jit\n",
    "import math\n",
    "\n",
    "# import visual tools\n",
    "import matplotlib as mpl\n",
    "import matplotlib.pyplot as plt\n",
    "import matplotlib.gridspec as gridspec\n",
    "%matplotlib inline\n",
    "import seaborn as sns\n",
    "\n",
    "plt.style.use('seaborn-talk')\n",
    "plt.style.use('bmh')\n",
    "#plt.rcParams['font.family'] = 'DejaVu Sans Mono'\n",
    "plt.rcParams['font.size'] = 9.5\n",
    "plt.rcParams['font.weight'] = 'medium'\n",
    "plt.rcParams['figure.figsize'] = 10,7\n",
    "blue, green, red, purple, gold, teal = sns.color_palette('colorblind', 6)\n",
    "\n",
    "# import util libs\n",
    "# from tqdm import tqdm, tqdm_notebook\n",
    "import warnings\n",
    "warnings.filterwarnings(\"ignore\")\n",
    "from utils import *\n",
    "from bars import *\n",
    "\n",
    "RANDOM_STATE = 777\n",
    "\n",
    "print()"
   ]
  },
  {
   "cell_type": "markdown",
   "metadata": {},
   "source": [
    "## Code Snippets"
   ]
  },
  {
   "cell_type": "code",
   "execution_count": 2,
   "metadata": {},
   "outputs": [],
   "source": [
    "## Symmetric CUSUM Filter [2.5.2.1]\n",
    "\n",
    "def getTEvents(gRaw, h):\n",
    "    \"\"\"\n",
    "    Symmetric CUSUM Filter\n",
    "    Sample a bar t iff S_t >= h at which point S_t is reset\n",
    "    Multiple events are not triggered by gRaw hovering around a threshold level\n",
    "    It will require a full run of length h for gRaw to trigger an event\n",
    "    \n",
    "    Two arguments:\n",
    "        gRaw: the raw time series we wish to filter (gRaw)\n",
    "        h: threshold\n",
    "        \n",
    "    Return:\n",
    "        pd.DatatimeIndex.append(tEvents): \n",
    "    \"\"\"\n",
    "    \n",
    "#    tEvents, sPos, sNeg = [], 0, 0\n",
    "#    diff = gRaw.diff()\n",
    "#    \n",
    "#    for i in diff.index[1:]:\n",
    "#        sPos, sNeg = max(0,sPos+diff.loc[i]), min(0,sNeg+diff.loc[i])\n",
    "#        if sNeg < -h:\n",
    "#            sNeg = 0; tEvents.append(i)\n",
    "#        elif sPos > h:\n",
    "#            sPos = 0; tEvents.append(i)\n",
    "#    return pd.DatetimeIndex(tEvents)\n",
    "\n",
    "    tEvents, sPos, sNeg = [], 0, 0\n",
    "    diff = np.log(gRaw).diff().dropna()\n",
    "    for i in tqdm(diff.index[1:]):\n",
    "        try:\n",
    "            pos, neg = float(sPos+diff.loc[i]), float(sNeg+diff.loc[i])\n",
    "        except Exception as e:\n",
    "            print(e)\n",
    "            print(sPos+diff.loc[i], type(sPos+diff.loc[i]))\n",
    "            print(sNeg+diff.loc[i], type(sNeg+diff.loc[i]))\n",
    "            break\n",
    "        sPos, sNeg=max(0., pos), min(0., neg)\n",
    "        if sNeg<-h:\n",
    "            sNeg=0;tEvents.append(i)\n",
    "        elif sPos>h:\n",
    "            sPos=0;tEvents.append(i)\n",
    "    return pd.DatetimeIndex(tEvents)\n",
    "            \n",
    "    "
   ]
  },
  {
   "cell_type": "code",
   "execution_count": 3,
   "metadata": {},
   "outputs": [],
   "source": [
    "## Daily Volatility Estimator [3.1]\n",
    "\n",
    "def getDailyVol (close, span0 = 100):\n",
    "    \"\"\"\n",
    "    Compute the daily volatility at intraday estimation\n",
    "    applying a span of span0 to an exponentially weighted moving standard deviation\n",
    "    \n",
    "    Set profit taking and stop loss limits that are function of the risks involved in a bet\n",
    "    \"\"\"\n",
    "\n",
    "    df0=close.index.searchsorted(close.index-pd.Timedelta(days=1))\n",
    "    df0=df0[df0>0]   \n",
    "    df0=(pd.Series(close.index[df0-1], \n",
    "                   index=close.index[close.shape[0]-df0.shape[0]:]))   \n",
    "    try:\n",
    "        df0=close.loc[df0.index]/close.loc[df0.values].values-1 # daily rets\n",
    "    except Exception as e:\n",
    "        print(f'error: {e}\\nplease confirm no duplicate indices')\n",
    "    df0=df0.ewm(span=span0).std().rename('dailyVol')\n",
    "    return df0"
   ]
  },
  {
   "cell_type": "code",
   "execution_count": 4,
   "metadata": {},
   "outputs": [],
   "source": [
    "def applyPtSlOnT1(close,events,ptSl,molecule):\n",
    "    # apply stop loss/profit taking, if it takes place before t1 (end of event)\n",
    "    events_=events.loc[molecule]\n",
    "    out=events_[['t1']].copy(deep=True)\n",
    "    if ptSl[0]>0:\n",
    "        pt=ptSl[0]*events_['trgt']\n",
    "    else: \n",
    "        pt=pd.Series(index=events.index) # NaNs\n",
    "    if ptSl[1]>0:\n",
    "        sl=-ptSl[1]*events_['trgt']\n",
    "    else:\n",
    "        sl=pd.Series(index=events.index) # NaNs\n",
    "    \n",
    "    for loc,t1 in events_['t1'].fillna(close.index[-1]).iteritems():\n",
    "        df0=close[loc:t1] # path prices\n",
    "        df0=(df0/close[loc]-1)*events_.at[loc,'side'] # path returns\n",
    "        out.loc[loc,'sl']=df0[df0<sl[loc]].index.min() # earliest stop loss\n",
    "        out.loc[loc,'pt']=df0[df0>pt[loc]].index.min() # earliest profit taking\n",
    "    return out"
   ]
  },
  {
   "cell_type": "code",
   "execution_count": 5,
   "metadata": {},
   "outputs": [],
   "source": [
    "def getEvents(close, tEvents, ptSl, trgt, minRet, numThreads, t1=False, side=None):\n",
    "    #1) get target\n",
    "    trgt=trgt.loc[tEvents]\n",
    "    trgt=trgt[trgt>minRet] # minRet\n",
    "    #2) get t1 (max holding period)\n",
    "    if t1 is False:t1=pd.Series(pd.NaT, index=tEvents)\n",
    "    #3) form events object, apply stop loss on t1\n",
    "    if side is None:side_,ptSl_=pd.Series(1.,index=trgt.index), [ptSl[0],ptSl[0]]\n",
    "    else: side_,ptSl_=side.loc[trgt.index],ptSl[:2]\n",
    "    events=(pd.concat({'t1':t1,'trgt':trgt,'side':side_}, axis=1)\n",
    "            .dropna(subset=['trgt']))\n",
    "    df0=mpPandasObj(func=applyPtSlOnT1,pdObj=('molecule',events.index),\n",
    "                    numThreads=numThreads,close=close,events=events,\n",
    "                    ptSl=ptSl_)\n",
    "    events['t1']=df0.dropna(how='all').min(axis=1) # pd.min ignores nan\n",
    "    if side is None:events=events.drop('side',axis=1)\n",
    "    return events"
   ]
  },
  {
   "cell_type": "code",
   "execution_count": 6,
   "metadata": {},
   "outputs": [],
   "source": [
    "def addVerticalBarrier(tEvents, close, numDays=1):\n",
    "    t1=close.index.searchsorted(tEvents+pd.Timedelta(days=numDays))\n",
    "    t1=t1[t1<close.shape[0]]\n",
    "    t1=(pd.Series(close.index[t1],index=tEvents[:t1.shape[0]]))\n",
    "    return t1"
   ]
  },
  {
   "cell_type": "code",
   "execution_count": 7,
   "metadata": {},
   "outputs": [],
   "source": [
    "def getBinsOld(events,close):\n",
    "    #1) prices aligned with events\n",
    "    events_=events.dropna(subset=['t1'])\n",
    "    px=events_.index.union(events_['t1'].values).drop_duplicates()\n",
    "    px=close.reindex(px,method='bfill')\n",
    "    #2) create out object\n",
    "    out=pd.DataFrame(index=events_.index)\n",
    "    out['ret']=px.loc[events_['t1'].values].values/px.loc[events_.index]-1\n",
    "    out['bin']=np.sign(out['ret'])\n",
    "    # where out index and t1 (vertical barrier) intersect label 0\n",
    "    try:\n",
    "        locs = out.query('index in @t1').index\n",
    "        out.loc[locs, 'bin'] = 0\n",
    "    except:\n",
    "        pass\n",
    "    return out"
   ]
  },
  {
   "cell_type": "code",
   "execution_count": 8,
   "metadata": {},
   "outputs": [],
   "source": [
    "def getBins(events, close):\n",
    "    '''\n",
    "    Compute event's outcome (including side information, if provided).\n",
    "    events is a DataFrame where:\n",
    "    -events.index is event's starttime\n",
    "    -events['t1'] is event's endtime\n",
    "    -events['trgt'] is event's target\n",
    "    -events['side'] (optional) implies the algo's position side\n",
    "    Case 1: ('side' not in events): bin in (-1,1) <-label by price action\n",
    "    Case 2: ('side' in events): bin in (0,1) <-label by pnl (meta-labeling)\n",
    "    '''\n",
    "    #1) prices aligned with events\n",
    "    events_=events.dropna(subset=['t1'])\n",
    "    px=events_.index.union(events_['t1'].values).drop_duplicates()\n",
    "    px=close.reindex(px,method='bfill')\n",
    "    #2) create out object\n",
    "    out=pd.DataFrame(index=events_.index)\n",
    "    out['ret']=px.loc[events_['t1'].values].values/px.loc[events_.index]-1\n",
    "    if 'side' in events_:out['ret']*=events_['side'] # meta-labeling\n",
    "    out['bin']=np.sign(out['ret'])\n",
    "    if 'side' in events_:out.loc[out['ret']<=0,'bin']=0 # meta-labeling\n",
    "    return out"
   ]
  },
  {
   "cell_type": "code",
   "execution_count": 9,
   "metadata": {},
   "outputs": [],
   "source": [
    "def dropLabels(events, minPct=.05):\n",
    "    # apply weights, drop labels with insufficient examples\n",
    "    while True:\n",
    "        df0=events['bin'].value_counts(normalize=True)\n",
    "        if df0.min()>minPct or df0.shape[0]<3:break\n",
    "        print('dropped label: ', df0.argmin(),df0.min())\n",
    "        events=events[events['bin']!=df0.argmin()]\n",
    "    return events"
   ]
  },
  {
   "cell_type": "code",
   "execution_count": 10,
   "metadata": {},
   "outputs": [],
   "source": [
    "def linParts(numAtoms,numThreads):\n",
    "    # partition of atoms with a single loop\n",
    "    parts=np.linspace(0,numAtoms,min(numThreads,numAtoms)+1)\n",
    "    parts=np.ceil(parts).astype(int)\n",
    "    return parts"
   ]
  },
  {
   "cell_type": "code",
   "execution_count": 11,
   "metadata": {},
   "outputs": [],
   "source": [
    "def nestedParts(numAtoms,numThreads,upperTriang=False):\n",
    "    # partition of atoms with an inner loop\n",
    "    parts,numThreads_=[0],min(numThreads,numAtoms)\n",
    "    for num in range(numThreads_):\n",
    "        part=1+4*(parts[-1]**2+parts[-1]+numAtoms*(numAtoms+1.)/numThreads_)\n",
    "        part=(-1+part**.5)/2.\n",
    "        parts.append(part)\n",
    "    parts=np.round(parts).astype(int)\n",
    "    if upperTriang: # the first rows are heaviest\n",
    "        parts=np.cumsum(np.diff(parts)[::-1])\n",
    "        parts=np.append(np.array([0]),parts)\n",
    "    return parts"
   ]
  },
  {
   "cell_type": "code",
   "execution_count": 12,
   "metadata": {},
   "outputs": [],
   "source": [
    "def mpPandasObj(func,pdObj,numThreads=24,mpBatches=1,linMols=True,**kargs):\n",
    "    '''\n",
    "    Parallelize jobs, return a dataframe or series\n",
    "    + func: function to be parallelized. Returns a DataFrame\n",
    "    + pdObj[0]: Name of argument used to pass the molecule\n",
    "    + pdObj[1]: List of atoms that will be grouped into molecules\n",
    "    + kwds: any other argument needed by func\n",
    "    \n",
    "    Example: df1=mpPandasObj(func,('molecule',df0.index),24,**kwds)\n",
    "    '''\n",
    "    import pandas as pd\n",
    "    #if linMols:parts=linParts(len(argList[1]),numThreads*mpBatches)\n",
    "    #else:parts=nestedParts(len(argList[1]),numThreads*mpBatches)\n",
    "    if linMols:parts=linParts(len(pdObj[1]),numThreads*mpBatches)\n",
    "    else:parts=nestedParts(len(pdObj[1]),numThreads*mpBatches)\n",
    "    \n",
    "    jobs=[]\n",
    "    for i in range(1,len(parts)):\n",
    "        job={pdObj[0]:pdObj[1][parts[i-1]:parts[i]],'func':func}\n",
    "        job.update(kargs)\n",
    "        jobs.append(job)\n",
    "    if numThreads==1:out=processJobs_(jobs)\n",
    "    else: out=processJobs(jobs,numThreads=numThreads)\n",
    "    if isinstance(out[0],pd.DataFrame):df0=pd.DataFrame()\n",
    "    elif isinstance(out[0],pd.Series):df0=pd.Series()\n",
    "    else:return out\n",
    "    for i in out:df0=df0.append(i)\n",
    "    df0=df0.sort_index()\n",
    "    return df0"
   ]
  },
  {
   "cell_type": "code",
   "execution_count": 13,
   "metadata": {},
   "outputs": [],
   "source": [
    "def processJobs_(jobs):\n",
    "    # Run jobs sequentially, for debugging\n",
    "    out=[]\n",
    "    for job in jobs:\n",
    "        out_=expandCall(job)\n",
    "        out.append(out_)\n",
    "    return out"
   ]
  },
  {
   "cell_type": "code",
   "execution_count": 14,
   "metadata": {},
   "outputs": [],
   "source": [
    "import multiprocessing as mp\n",
    "import datetime as dt\n",
    "\n",
    "#________________________________\n",
    "def reportProgress(jobNum,numJobs,time0,task):\n",
    "    # Report progress as asynch jobs are completed\n",
    "    msg=[float(jobNum)/numJobs, (time.time()-time0)/60.]\n",
    "    msg.append(msg[1]*(1/msg[0]-1))\n",
    "    timeStamp=str(dt.datetime.fromtimestamp(time.time()))\n",
    "    msg=timeStamp+' '+str(round(msg[0]*100,2))+'% '+task+' done after '+ \\\n",
    "        str(round(msg[1],2))+' minutes. Remaining '+str(round(msg[2],2))+' minutes.'\n",
    "    if jobNum<numJobs:sys.stderr.write(msg+'\\r')\n",
    "    else:sys.stderr.write(msg+'\\n')\n",
    "    return\n",
    "#________________________________\n",
    "def processJobs(jobs,task=None,numThreads=24):\n",
    "    # Run in parallel.\n",
    "    # jobs must contain a 'func' callback, for expandCall\n",
    "    if task is None:task=jobs[0]['func'].__name__\n",
    "    pool=mp.Pool(processes=numThreads)\n",
    "    outputs,out,time0=pool.imap_unordered(expandCall,jobs),[],time.time()\n",
    "    # Process asyn output, report progress\n",
    "    for i,out_ in enumerate(outputs,1):\n",
    "        out.append(out_)\n",
    "        reportProgress(i,len(jobs),time0,task)\n",
    "    pool.close();pool.join() # this is needed to prevent memory leaks\n",
    "    return out"
   ]
  },
  {
   "cell_type": "code",
   "execution_count": 15,
   "metadata": {},
   "outputs": [],
   "source": [
    "def expandCall(kargs):\n",
    "    # Expand the arguments of a callback function, kargs['func']\n",
    "    func=kargs['func']\n",
    "    del kargs['func']\n",
    "    out=func(**kargs)\n",
    "    return out"
   ]
  },
  {
   "cell_type": "code",
   "execution_count": 16,
   "metadata": {},
   "outputs": [],
   "source": [
    "def _pickle_method(method):\n",
    "    func_name=method.im_func.__name__\n",
    "    obj=method.im_self\n",
    "    cls=method.im_class\n",
    "    return _unpickle_method, (func_name,obj,cls)\n",
    "#________________________________\n",
    "def _unpickle_method(func_name,obj,cls):\n",
    "    for cls in cls.mro():\n",
    "        try:func=cls.__dict__[func_name]\n",
    "        except KeyError:pass\n",
    "        else:break\n",
    "    return func.__get__(obj,cls)\n",
    "#________________________________\n",
    "import copyreg,types, multiprocessing as mp\n",
    "copyreg.pickle(types.MethodType,_pickle_method,_unpickle_method)"
   ]
  },
  {
   "cell_type": "code",
   "execution_count": 17,
   "metadata": {},
   "outputs": [],
   "source": [
    "infp = PurePath(data_dir/'processed'/'IVE_dollarValue_resampled_1s.parquet')\n",
    "df = pd.read_parquet(infp)\n"
   ]
  },
  {
   "cell_type": "code",
   "execution_count": 18,
   "metadata": {},
   "outputs": [
    {
     "name": "stdout",
     "output_type": "stream",
     "text": [
      "-------------------------------------------------------------------------------\n",
      "dataframe information\n",
      "-------------------------------------------------------------------------------\n",
      "                      price     bid     ask      size         v            dv\n",
      "2018-02-26 15:59:59  115.35  115.34  115.36     412.5     412.5  4.758188e+04\n",
      "2018-02-26 16:00:00  115.35  115.34  115.35    5362.0    5362.0  6.185067e+05\n",
      "2018-02-26 16:10:00  115.35  115.22  115.58       0.0       0.0  0.000000e+00\n",
      "2018-02-26 16:16:14  115.30  114.72  115.62  778677.0  778677.0  8.978146e+07\n",
      "2018-02-26 18:30:00  115.35  114.72  117.38       0.0       0.0  0.000000e+00\n",
      "--------------------------------------------------\n",
      "<class 'pandas.core.frame.DataFrame'>\n",
      "DatetimeIndex: 941297 entries, 2009-09-28 09:30:00 to 2018-02-26 18:30:00\n",
      "Data columns (total 6 columns):\n",
      "price    941297 non-null float64\n",
      "bid      941297 non-null float64\n",
      "ask      941297 non-null float64\n",
      "size     941297 non-null float64\n",
      "v        941297 non-null float64\n",
      "dv       941297 non-null float64\n",
      "dtypes: float64(6)\n",
      "memory usage: 50.3 MB\n",
      "None\n",
      "-------------------------------------------------------------------------------\n",
      "\n"
     ]
    }
   ],
   "source": [
    "cprint(df)"
   ]
  },
  {
   "cell_type": "markdown",
   "metadata": {},
   "source": [
    "## [3.1] Form Dollar Bars"
   ]
  },
  {
   "cell_type": "code",
   "execution_count": 19,
   "metadata": {},
   "outputs": [],
   "source": [
    "dbars = dollar_bar_df(df,'dv',1_000_000).drop_duplicates().dropna()"
   ]
  },
  {
   "cell_type": "code",
   "execution_count": 20,
   "metadata": {},
   "outputs": [
    {
     "name": "stdout",
     "output_type": "stream",
     "text": [
      "-------------------------------------------------------------------------------\n",
      "dataframe information\n",
      "-------------------------------------------------------------------------------\n",
      "                      price         bid         ask           size  \\\n",
      "2018-02-26 15:31:06  115.29  115.280000  115.290000    2022.000000   \n",
      "2018-02-26 15:40:15  115.41  115.400000  115.410000     723.000000   \n",
      "2018-02-26 15:49:42  115.20  115.176667  115.186667    4487.166667   \n",
      "2018-02-26 15:59:04  115.27  115.260000  115.270000     300.000000   \n",
      "2018-02-26 16:16:14  115.30  114.720000  115.620000  778677.000000   \n",
      "\n",
      "                                 v            dv  \n",
      "2018-02-26 15:31:06    2022.000000  2.331164e+05  \n",
      "2018-02-26 15:40:15     723.000000  8.344143e+04  \n",
      "2018-02-26 15:49:42    4487.166667  5.171190e+05  \n",
      "2018-02-26 15:59:04     300.000000  3.458100e+04  \n",
      "2018-02-26 16:16:14  778677.000000  8.978146e+07  \n",
      "--------------------------------------------------\n",
      "<class 'pandas.core.frame.DataFrame'>\n",
      "DatetimeIndex: 30860 entries, 2009-09-28 09:53:49 to 2018-02-26 16:16:14\n",
      "Data columns (total 6 columns):\n",
      "price    30860 non-null float64\n",
      "bid      30860 non-null float64\n",
      "ask      30860 non-null float64\n",
      "size     30860 non-null float64\n",
      "v        30860 non-null float64\n",
      "dv       30860 non-null float64\n",
      "dtypes: float64(6)\n",
      "memory usage: 1.6 MB\n",
      "None\n",
      "-------------------------------------------------------------------------------\n",
      "\n"
     ]
    }
   ],
   "source": [
    "cprint(dbars)"
   ]
  },
  {
   "cell_type": "code",
   "execution_count": 21,
   "metadata": {},
   "outputs": [],
   "source": [
    "close = dbars.price.copy()\n",
    "dailyVol = getDailyVol(close)"
   ]
  },
  {
   "cell_type": "code",
   "execution_count": 22,
   "metadata": {},
   "outputs": [
    {
     "name": "stdout",
     "output_type": "stream",
     "text": [
      "-------------------------------------------------------------------------------\n",
      "dataframe information\n",
      "-------------------------------------------------------------------------------\n",
      "                     dailyVol\n",
      "2018-02-26 15:31:06  0.006852\n",
      "2018-02-26 15:40:15  0.006893\n",
      "2018-02-26 15:49:42  0.006889\n",
      "2018-02-26 15:59:04  0.006894\n",
      "2018-02-26 16:16:14  0.006902\n",
      "--------------------------------------------------\n",
      "<class 'pandas.core.frame.DataFrame'>\n",
      "DatetimeIndex: 30843 entries, 2009-09-29 10:03:18 to 2018-02-26 16:16:14\n",
      "Data columns (total 1 columns):\n",
      "dailyVol    30842 non-null float64\n",
      "dtypes: float64(1)\n",
      "memory usage: 481.9 KB\n",
      "None\n",
      "-------------------------------------------------------------------------------\n",
      "\n"
     ]
    }
   ],
   "source": [
    "cprint(dailyVol.to_frame())"
   ]
  },
  {
   "cell_type": "code",
   "execution_count": 23,
   "metadata": {},
   "outputs": [],
   "source": [
    "close.to_excel('testClose.xlsx')"
   ]
  },
  {
   "cell_type": "code",
   "execution_count": 24,
   "metadata": {},
   "outputs": [
    {
     "data": {
      "text/plain": [
       "<matplotlib.lines.Line2D at 0xd4f5278>"
      ]
     },
     "execution_count": 24,
     "metadata": {},
     "output_type": "execute_result"
    },
    {
     "data": {
      "image/png": "[encoded data removed]",
      "text/plain": [
       "<Figure size 432x288 with 1 Axes>"
      ]
     },
     "metadata": {
      "needs_background": "light"
     },
     "output_type": "display_data"
    }
   ],
   "source": [
    "f, ax = plt.subplots()\n",
    "dailyVol.plot(ax = ax)\n",
    "ax.axhline(dailyVol.mean(),ls='--',color='red')"
   ]
  },
  {
   "cell_type": "code",
   "execution_count": 25,
   "metadata": {},
   "outputs": [
    {
     "name": "stderr",
     "output_type": "stream",
     "text": [
      "100%|██████████████████████████████████| 30858/30858 [00:04<00:00, 7523.23it/s]\n"
     ]
    }
   ],
   "source": [
    "from tqdm import tqdm, tqdm_notebook\n",
    "\n",
    "tEvents = getTEvents(close, h = dailyVol.mean())"
   ]
  },
  {
   "cell_type": "code",
   "execution_count": 26,
   "metadata": {},
   "outputs": [
    {
     "data": {
      "text/plain": [
       "DatetimeIndex(['2009-09-29 09:33:01', '2009-09-30 09:45:21',\n",
       "               '2009-09-30 13:31:12', '2009-10-01 09:43:58',\n",
       "               '2009-10-01 11:12:07', '2009-10-02 09:44:14',\n",
       "               '2009-10-02 10:35:05', '2009-10-05 09:51:42',\n",
       "               '2009-10-05 14:55:48', '2009-10-06 09:29:52',\n",
       "               ...\n",
       "               '2018-02-16 14:23:51', '2018-02-20 09:30:00',\n",
       "               '2018-02-20 15:21:07', '2018-02-21 14:04:12',\n",
       "               '2018-02-21 15:12:30', '2018-02-22 12:18:21',\n",
       "               '2018-02-22 14:56:14', '2018-02-23 11:37:32',\n",
       "               '2018-02-23 15:58:39', '2018-02-26 13:06:34'],\n",
       "              dtype='datetime64[ns]', length=2278, freq=None)"
      ]
     },
     "execution_count": 26,
     "metadata": {},
     "output_type": "execute_result"
    }
   ],
   "source": [
    "tEvents"
   ]
  },
  {
   "cell_type": "markdown",
   "metadata": {},
   "source": [
    "## (b) Add Vertical barrier"
   ]
  },
  {
   "cell_type": "code",
   "execution_count": 27,
   "metadata": {},
   "outputs": [
    {
     "data": {
      "text/plain": [
       "2009-09-29 09:33:01   2009-09-30 09:45:21\n",
       "2009-09-30 09:45:21   2009-10-01 10:00:48\n",
       "2009-09-30 13:31:12   2009-10-01 13:33:25\n",
       "2009-10-01 09:43:58   2009-10-02 09:44:14\n",
       "2009-10-01 11:12:07   2009-10-02 11:50:21\n",
       "2009-10-02 09:44:14   2009-10-05 09:51:42\n",
       "2009-10-02 10:35:05   2009-10-05 09:51:42\n",
       "2009-10-05 09:51:42   2009-10-06 10:16:02\n",
       "2009-10-05 14:55:48   2009-10-06 15:35:49\n",
       "2009-10-06 09:29:52   2009-10-07 09:47:16\n",
       "2009-10-06 11:32:02   2009-10-07 11:48:22\n",
       "2009-10-06 14:07:37   2009-10-07 14:22:36\n",
       "2009-10-08 09:29:51   2009-10-09 09:31:12\n",
       "2009-10-12 09:31:02   2009-10-13 09:47:54\n",
       "2009-10-13 10:52:10   2009-10-14 11:12:03\n",
       "2009-10-14 09:29:52   2009-10-15 09:37:24\n",
       "2009-10-14 15:30:48   2009-10-15 15:57:25\n",
       "2009-10-16 09:55:03   2009-10-19 09:37:41\n",
       "2009-10-16 15:40:15   2009-10-19 09:37:41\n",
       "2009-10-19 11:39:38   2009-10-20 11:50:28\n",
       "2009-10-20 11:50:28   2009-10-21 12:44:38\n",
       "2009-10-21 10:11:57   2009-10-22 10:47:06\n",
       "2009-10-21 15:32:09   2009-10-22 15:49:30\n",
       "2009-10-22 09:55:51   2009-10-23 10:03:53\n",
       "2009-10-22 14:33:52   2009-10-23 14:49:39\n",
       "2009-10-23 10:57:52   2009-10-26 09:52:17\n",
       "2009-10-26 09:52:17   2009-10-27 09:57:46\n",
       "2009-10-26 11:32:02   2009-10-27 12:04:42\n",
       "2009-10-26 11:59:14   2009-10-27 12:04:42\n",
       "2009-10-27 13:37:35   2009-10-28 14:04:15\n",
       "2009-10-28 10:00:16   2009-10-29 10:00:59\n",
       "2009-10-28 14:41:52   2009-10-29 15:00:53\n",
       "2009-10-29 09:32:01   2009-10-30 09:43:02\n",
       "2009-10-29 13:40:22   2009-10-30 13:54:51\n",
       "2009-10-30 09:58:07   2009-11-02 09:51:15\n",
       "2009-10-30 11:51:20   2009-11-02 09:51:15\n",
       "2009-10-30 12:57:50   2009-11-02 09:51:15\n",
       "2009-10-30 15:06:13   2009-11-02 09:51:15\n",
       "2009-10-30 15:44:12   2009-11-02 09:51:15\n",
       "2009-11-02 10:17:36   2009-11-03 10:42:33\n",
       "2009-11-02 12:23:50   2009-11-03 12:24:26\n",
       "2009-11-02 12:58:06   2009-11-03 13:10:26\n",
       "2009-11-02 14:07:16   2009-11-03 14:22:31\n",
       "2009-11-02 14:55:04   2009-11-03 15:18:16\n",
       "2009-11-03 14:22:31   2009-11-04 14:41:42\n",
       "2009-11-04 09:34:15   2009-11-05 09:59:36\n",
       "2009-11-04 15:46:56   2009-11-05 16:09:46\n",
       "2009-11-05 09:59:36   2009-11-06 10:06:33\n",
       "2009-11-05 16:09:46   2009-11-09 09:54:17\n",
       "2009-11-09 09:54:17   2009-11-10 10:09:52\n",
       "                              ...        \n",
       "2018-02-06 09:36:34   2018-02-07 09:43:03\n",
       "2018-02-06 09:58:38   2018-02-07 10:04:28\n",
       "2018-02-06 10:18:08   2018-02-07 10:22:20\n",
       "2018-02-06 10:38:41   2018-02-07 10:39:35\n",
       "2018-02-06 11:35:33   2018-02-07 11:46:44\n",
       "2018-02-06 11:53:57   2018-02-07 11:57:50\n",
       "2018-02-06 12:32:24   2018-02-07 12:42:28\n",
       "2018-02-06 13:04:03   2018-02-07 13:08:44\n",
       "2018-02-06 14:19:57   2018-02-07 14:20:37\n",
       "2018-02-06 14:49:56   2018-02-07 14:53:22\n",
       "2018-02-06 15:05:41   2018-02-07 15:11:44\n",
       "2018-02-06 15:42:53   2018-02-07 15:47:02\n",
       "2018-02-07 09:43:03   2018-02-08 09:57:38\n",
       "2018-02-07 11:15:27   2018-02-08 11:18:31\n",
       "2018-02-07 13:16:25   2018-02-08 13:17:26\n",
       "2018-02-07 15:28:09   2018-02-08 15:33:11\n",
       "2018-02-07 15:58:58   2018-02-08 15:59:48\n",
       "2018-02-08 10:33:27   2018-02-09 10:41:40\n",
       "2018-02-08 12:29:28   2018-02-09 12:40:46\n",
       "2018-02-08 13:45:14   2018-02-09 13:52:34\n",
       "2018-02-08 15:07:57   2018-02-09 15:09:17\n",
       "2018-02-08 15:45:50   2018-02-09 15:47:50\n",
       "2018-02-09 09:30:00   2018-02-12 09:30:00\n",
       "2018-02-09 10:41:40   2018-02-12 09:30:00\n",
       "2018-02-09 12:05:08   2018-02-12 09:30:00\n",
       "2018-02-09 13:27:21   2018-02-12 09:30:00\n",
       "2018-02-09 13:52:34   2018-02-12 09:30:00\n",
       "2018-02-09 14:11:06   2018-02-12 09:30:00\n",
       "2018-02-09 15:05:41   2018-02-12 09:30:00\n",
       "2018-02-09 15:29:15   2018-02-12 09:30:00\n",
       "2018-02-09 15:47:50   2018-02-12 09:30:00\n",
       "2018-02-12 09:30:00   2018-02-13 09:30:00\n",
       "2018-02-12 10:25:02   2018-02-13 10:36:48\n",
       "2018-02-12 12:12:51   2018-02-13 12:34:24\n",
       "2018-02-13 09:30:00   2018-02-14 09:30:00\n",
       "2018-02-13 13:43:37   2018-02-14 13:53:59\n",
       "2018-02-14 10:30:48   2018-02-15 10:42:27\n",
       "2018-02-14 13:36:02   2018-02-15 13:42:09\n",
       "2018-02-15 09:31:56   2018-02-16 09:42:36\n",
       "2018-02-15 14:05:41   2018-02-16 14:15:08\n",
       "2018-02-16 11:11:50   2018-02-20 09:30:00\n",
       "2018-02-16 14:23:51   2018-02-20 09:30:00\n",
       "2018-02-20 09:30:00   2018-02-21 09:34:28\n",
       "2018-02-20 15:21:07   2018-02-21 15:22:14\n",
       "2018-02-21 14:04:12   2018-02-22 14:20:25\n",
       "2018-02-21 15:12:30   2018-02-22 15:16:50\n",
       "2018-02-22 12:18:21   2018-02-23 12:30:16\n",
       "2018-02-22 14:56:14   2018-02-23 15:02:21\n",
       "2018-02-23 11:37:32   2018-02-26 09:30:00\n",
       "2018-02-23 15:58:39   2018-02-26 09:30:00\n",
       "Length: 2277, dtype: datetime64[ns]"
      ]
     },
     "execution_count": 27,
     "metadata": {},
     "output_type": "execute_result"
    }
   ],
   "source": [
    "t1 = addVerticalBarrier(tEvents,close)\n",
    "t1"
   ]
  },
  {
   "cell_type": "markdown",
   "metadata": {},
   "source": [
    "## (c) Apply Triple-barrier method where ptSl = [1,1], and t1 is the series created in 1.b"
   ]
  },
  {
   "cell_type": "code",
   "execution_count": 28,
   "metadata": {},
   "outputs": [],
   "source": [
    "# create target series\n",
    "ptSl = [1,1]\n",
    "target = dailyVol\n",
    "\n",
    "# select minRet\n",
    "minRet = 0.01\n",
    "\n",
    "# Run in single-threaded mode on Windows\n",
    "import platform\n",
    "if platform.system() == 'Windows':\n",
    "    cpus = 1\n",
    "else:\n",
    "    cpus = cpu_count() - 1\n",
    "    \n",
    "events = getEvents(close,tEvents, ptSl, target, minRet, cpus, t1 = t1)"
   ]
  },
  {
   "cell_type": "code",
   "execution_count": 29,
   "metadata": {},
   "outputs": [
    {
     "name": "stdout",
     "output_type": "stream",
     "text": [
      "-------------------------------------------------------------------------------\n",
      "dataframe information\n",
      "-------------------------------------------------------------------------------\n",
      "                                     t1      trgt\n",
      "2018-02-13 13:43:37 2018-02-14 13:53:59  0.014365\n",
      "2018-02-14 10:30:48 2018-02-15 09:31:56  0.012136\n",
      "2018-02-14 13:36:02 2018-02-15 13:42:09  0.011688\n",
      "2018-02-15 09:31:56 2018-02-16 09:42:36  0.011244\n",
      "2018-02-15 14:05:41 2018-02-16 12:05:18  0.010183\n",
      "--------------------------------------------------\n",
      "<class 'pandas.core.frame.DataFrame'>\n",
      "DatetimeIndex: 929 entries, 2009-10-05 14:55:48 to 2018-02-15 14:05:41\n",
      "Data columns (total 2 columns):\n",
      "t1      929 non-null datetime64[ns]\n",
      "trgt    929 non-null float64\n",
      "dtypes: datetime64[ns](1), float64(1)\n",
      "memory usage: 61.8 KB\n",
      "None\n",
      "-------------------------------------------------------------------------------\n",
      "\n"
     ]
    }
   ],
   "source": [
    "cprint(events)"
   ]
  },
  {
   "cell_type": "markdown",
   "metadata": {},
   "source": [
    "## (d) Apply getBins to generate labels"
   ]
  },
  {
   "cell_type": "code",
   "execution_count": 30,
   "metadata": {},
   "outputs": [
    {
     "name": "stdout",
     "output_type": "stream",
     "text": [
      "-------------------------------------------------------------------------------\n",
      "dataframe information\n",
      "-------------------------------------------------------------------------------\n",
      "                          ret  bin\n",
      "2018-02-13 13:43:37  0.010108  1.0\n",
      "2018-02-14 10:30:48  0.015045  1.0\n",
      "2018-02-14 13:36:02  0.005056  1.0\n",
      "2018-02-15 09:31:56  0.003964  1.0\n",
      "2018-02-15 14:05:41  0.010431  1.0\n",
      "--------------------------------------------------\n",
      "<class 'pandas.core.frame.DataFrame'>\n",
      "DatetimeIndex: 929 entries, 2009-10-05 14:55:48 to 2018-02-15 14:05:41\n",
      "Data columns (total 2 columns):\n",
      "ret    929 non-null float64\n",
      "bin    929 non-null float64\n",
      "dtypes: float64(2)\n",
      "memory usage: 61.8 KB\n",
      "None\n",
      "-------------------------------------------------------------------------------\n",
      "\n"
     ]
    }
   ],
   "source": [
    "labels = getBins(events, close)\n",
    "cprint(labels)"
   ]
  },
  {
   "cell_type": "code",
   "execution_count": 31,
   "metadata": {},
   "outputs": [
    {
     "data": {
      "text/plain": [
       " 1.0    523\n",
       "-1.0    406\n",
       "Name: bin, dtype: int64"
      ]
     },
     "execution_count": 31,
     "metadata": {},
     "output_type": "execute_result"
    }
   ],
   "source": [
    "labels.bin.value_counts()"
   ]
  },
  {
   "cell_type": "markdown",
   "metadata": {},
   "source": [
    "## [3.2] Use snippet 3.8 to drop under-populatyed labels"
   ]
  },
  {
   "cell_type": "code",
   "execution_count": 32,
   "metadata": {},
   "outputs": [
    {
     "name": "stdout",
     "output_type": "stream",
     "text": [
      "-------------------------------------------------------------------------------\n",
      "dataframe information\n",
      "-------------------------------------------------------------------------------\n",
      "                          ret  bin\n",
      "2018-02-13 13:43:37  0.010108  1.0\n",
      "2018-02-14 10:30:48  0.015045  1.0\n",
      "2018-02-14 13:36:02  0.005056  1.0\n",
      "2018-02-15 09:31:56  0.003964  1.0\n",
      "2018-02-15 14:05:41  0.010431  1.0\n",
      "--------------------------------------------------\n",
      "<class 'pandas.core.frame.DataFrame'>\n",
      "DatetimeIndex: 929 entries, 2009-10-05 14:55:48 to 2018-02-15 14:05:41\n",
      "Data columns (total 2 columns):\n",
      "ret    929 non-null float64\n",
      "bin    929 non-null float64\n",
      "dtypes: float64(2)\n",
      "memory usage: 61.8 KB\n",
      "None\n",
      "-------------------------------------------------------------------------------\n",
      "\n"
     ]
    }
   ],
   "source": [
    "clean_labels = dropLabels(labels)\n",
    "cprint(clean_labels)"
   ]
  },
  {
   "cell_type": "markdown",
   "metadata": {},
   "source": [
    "## [3.4] Develop moving average crossover strategy. For each obs. The model suggests a side but not size of the bet"
   ]
  },
  {
   "cell_type": "code",
   "execution_count": 33,
   "metadata": {},
   "outputs": [
    {
     "name": "stdout",
     "output_type": "stream",
     "text": [
      "-------------------------------------------------------------------------------\n",
      "dataframe information\n",
      "-------------------------------------------------------------------------------\n",
      "                      price        fast        slow\n",
      "2018-02-26 15:31:06  115.29  115.227691  115.057569\n",
      "2018-02-26 15:40:15  115.41  115.273268  115.101623\n",
      "2018-02-26 15:49:42  115.20  115.254951  115.113920\n",
      "2018-02-26 15:59:04  115.27  115.258713  115.133430\n",
      "2018-02-26 16:16:14  115.30  115.269035  115.154251\n",
      "--------------------------------------------------\n",
      "<class 'pandas.core.frame.DataFrame'>\n",
      "DatetimeIndex: 30860 entries, 2009-09-28 09:53:49 to 2018-02-26 16:16:14\n",
      "Data columns (total 3 columns):\n",
      "price    30860 non-null float64\n",
      "fast     30860 non-null float64\n",
      "slow     30860 non-null float64\n",
      "dtypes: float64(3)\n",
      "memory usage: 964.4 KB\n",
      "None\n",
      "-------------------------------------------------------------------------------\n",
      "\n"
     ]
    }
   ],
   "source": [
    "fast_window = 3\n",
    "slow_window = 7\n",
    "\n",
    "close_df = (pd.DataFrame()\n",
    "            .assign(price = close)\n",
    "            .assign(fast  = close.ewm(fast_window).mean())\n",
    "            .assign(slow  = close.ewm(slow_window).mean()))\n",
    "cprint(close_df)"
   ]
  },
  {
   "cell_type": "code",
   "execution_count": 34,
   "metadata": {},
   "outputs": [
    {
     "data": {
      "text/plain": [
       "<matplotlib.axes._subplots.AxesSubplot at 0xeaf5358>"
      ]
     },
     "execution_count": 34,
     "metadata": {},
     "output_type": "execute_result"
    },
    {
     "data": {
      "image/png": "[encoded data removed]",
      "text/plain": [
       "<Figure size 792x576 with 1 Axes>"
      ]
     },
     "metadata": {
      "needs_background": "light"
     },
     "output_type": "display_data"
    }
   ],
   "source": [
    "def get_up_cross(df):\n",
    "    crit1 = df.fast.shift(1) < df.slow.shift(1)\n",
    "    crit2 = df.fast > df.slow\n",
    "    return df.fast[(crit1)&(crit2)]\n",
    "\n",
    "def get_down_cross(df):\n",
    "    crit1 = df.fast.shift(1) > df.slow.shift(1)\n",
    "    crit2 = df.fast < df.slow\n",
    "    return df.slow[(crit1) & (crit2)]\n",
    "\n",
    "up = get_up_cross(close_df)\n",
    "down = get_down_cross(close_df)\n",
    "\n",
    "f, ax = plt.subplots(figsize=(11,8))\n",
    "\n",
    "close_df.loc['2014':].plot(ax=ax,alpha=.5)\n",
    "up.loc['2014':].plot(ax=ax,\n",
    "                     ls='',\n",
    "                     marker='^',\n",
    "                     markersize=7,\n",
    "                     alpha=.75,\n",
    "                     label='upcross',\n",
    "                     color = 'g')\n",
    "down.loc['2014':].plot(ax=ax,\n",
    "                     ls='',\n",
    "                     marker='v',\n",
    "                     markersize=7,\n",
    "                     alpha=.75,\n",
    "                     label='downcross',\n",
    "                     color = 'r')\n"
   ]
  },
  {
   "cell_type": "markdown",
   "metadata": {},
   "source": [
    "## (a) Derive meta-labels for ptSl = [1,2] and t1 where numdays = 1. Use as trgt dailyVol computed by snippet 3.1 (get events with sides)"
   ]
  },
  {
   "cell_type": "code",
   "execution_count": 35,
   "metadata": {},
   "outputs": [
    {
     "name": "stdout",
     "output_type": "stream",
     "text": [
      "-------------------------------------------------------------------------------\n",
      "dataframe information\n",
      "-------------------------------------------------------------------------------\n",
      "                     0\n",
      "2018-02-21 11:10:00  1\n",
      "2018-02-21 15:12:30 -1\n",
      "2018-02-22 11:48:39  1\n",
      "2018-02-22 13:34:29 -1\n",
      "2018-02-23 10:01:41  1\n",
      "--------------------------------------------------\n",
      "<class 'pandas.core.frame.DataFrame'>\n",
      "DatetimeIndex: 1712 entries, 2009-09-30 09:45:21 to 2018-02-23 10:01:41\n",
      "Data columns (total 1 columns):\n",
      "0    1712 non-null int64\n",
      "dtypes: int64(1)\n",
      "memory usage: 26.8 KB\n",
      "None\n",
      "-------------------------------------------------------------------------------\n",
      "\n"
     ]
    }
   ],
   "source": [
    "# trading signal\n",
    "side_up = pd.Series(1,index = up.index)\n",
    "side_down = pd.Series(-1, index = down.index)\n",
    "side = pd.concat([side_up, side_down]).sort_index()\n",
    "cprint(side)"
   ]
  },
  {
   "cell_type": "code",
   "execution_count": 36,
   "metadata": {},
   "outputs": [
    {
     "name": "stdout",
     "output_type": "stream",
     "text": [
      "-------------------------------------------------------------------------------\n",
      "dataframe information\n",
      "-------------------------------------------------------------------------------\n",
      "                     side                  t1      trgt\n",
      "2018-02-13 13:43:37   NaN 2018-02-14 13:53:59  0.014365\n",
      "2018-02-14 10:30:48   NaN 2018-02-15 10:42:27  0.012136\n",
      "2018-02-14 13:36:02   NaN 2018-02-15 13:42:09  0.011688\n",
      "2018-02-15 09:31:56   NaN 2018-02-16 09:42:36  0.011244\n",
      "2018-02-15 14:05:41   NaN 2018-02-16 14:15:08  0.010183\n",
      "--------------------------------------------------\n",
      "<class 'pandas.core.frame.DataFrame'>\n",
      "DatetimeIndex: 929 entries, 2009-10-05 14:55:48 to 2018-02-15 14:05:41\n",
      "Data columns (total 3 columns):\n",
      "side    102 non-null float64\n",
      "t1      929 non-null datetime64[ns]\n",
      "trgt    929 non-null float64\n",
      "dtypes: datetime64[ns](1), float64(2)\n",
      "memory usage: 69.0 KB\n",
      "None\n",
      "-------------------------------------------------------------------------------\n",
      "\n"
     ]
    }
   ],
   "source": [
    "minRet = .01\n",
    "ptSl = [1,2]\n",
    "ma_events = getEvents(close, tEvents, ptSl, target, minRet, cpus, t1 = t1, side = side)\n",
    "cprint(ma_events)"
   ]
  },
  {
   "cell_type": "code",
   "execution_count": 37,
   "metadata": {},
   "outputs": [
    {
     "data": {
      "text/plain": [
       " 1.0    53\n",
       "-1.0    49\n",
       "Name: side, dtype: int64"
      ]
     },
     "execution_count": 37,
     "metadata": {},
     "output_type": "execute_result"
    }
   ],
   "source": [
    "ma_events.side.value_counts()"
   ]
  },
  {
   "cell_type": "code",
   "execution_count": 38,
   "metadata": {},
   "outputs": [],
   "source": [
    "ma_side= ma_events.dropna().side"
   ]
  },
  {
   "cell_type": "code",
   "execution_count": 39,
   "metadata": {},
   "outputs": [],
   "source": [
    "ma_bins = getBins(ma_events,close).dropna()"
   ]
  },
  {
   "cell_type": "code",
   "execution_count": 40,
   "metadata": {
    "scrolled": true
   },
   "outputs": [
    {
     "name": "stdout",
     "output_type": "stream",
     "text": [
      "-------------------------------------------------------------------------------\n",
      "dataframe information\n",
      "-------------------------------------------------------------------------------\n",
      "                          ret  bin\n",
      "2016-07-07 14:28:00 -0.018703  0.0\n",
      "2016-07-08 09:30:57  0.010571  1.0\n",
      "2018-02-06 10:18:08 -0.026702  0.0\n",
      "2018-02-07 15:28:09 -0.030792  0.0\n",
      "2018-02-13 09:30:00 -0.001803  0.0\n",
      "--------------------------------------------------\n",
      "<class 'pandas.core.frame.DataFrame'>\n",
      "DatetimeIndex: 102 entries, 2009-10-29 13:40:22 to 2018-02-13 09:30:00\n",
      "Data columns (total 2 columns):\n",
      "ret    102 non-null float64\n",
      "bin    102 non-null float64\n",
      "dtypes: float64(2)\n",
      "memory usage: 2.4 KB\n",
      "None\n",
      "-------------------------------------------------------------------------------\n",
      "\n"
     ]
    }
   ],
   "source": [
    "cprint(ma_bins)"
   ]
  },
  {
   "cell_type": "code",
   "execution_count": 41,
   "metadata": {},
   "outputs": [],
   "source": [
    "Xx = pd.merge_asof(ma_bins, side.to_frame().rename(columns = {0:'side'}),\n",
    "                   left_index = True, right_index = True, direction = 'forward')"
   ]
  },
  {
   "cell_type": "code",
   "execution_count": 42,
   "metadata": {},
   "outputs": [
    {
     "name": "stdout",
     "output_type": "stream",
     "text": [
      "-------------------------------------------------------------------------------\n",
      "dataframe information\n",
      "-------------------------------------------------------------------------------\n",
      "                          ret  bin  side\n",
      "2016-07-07 14:28:00 -0.018703  0.0    -1\n",
      "2016-07-08 09:30:57  0.010571  1.0     1\n",
      "2018-02-06 10:18:08 -0.026702  0.0    -1\n",
      "2018-02-07 15:28:09 -0.030792  0.0     1\n",
      "2018-02-13 09:30:00 -0.001803  0.0    -1\n",
      "--------------------------------------------------\n",
      "<class 'pandas.core.frame.DataFrame'>\n",
      "DatetimeIndex: 102 entries, 2009-10-29 13:40:22 to 2018-02-13 09:30:00\n",
      "Data columns (total 3 columns):\n",
      "ret     102 non-null float64\n",
      "bin     102 non-null float64\n",
      "side    102 non-null int64\n",
      "dtypes: float64(2), int64(1)\n",
      "memory usage: 3.2 KB\n",
      "None\n",
      "-------------------------------------------------------------------------------\n",
      "\n"
     ]
    }
   ],
   "source": [
    "cprint(Xx)"
   ]
  },
  {
   "cell_type": "code",
   "execution_count": 43,
   "metadata": {},
   "outputs": [
    {
     "data": {
      "text/plain": [
       "0.14388169456817856"
      ]
     },
     "execution_count": 43,
     "metadata": {},
     "output_type": "execute_result"
    }
   ],
   "source": [
    "Xx.ret.sum()"
   ]
  },
  {
   "cell_type": "markdown",
   "metadata": {},
   "source": [
    "## (b) Train Random Forest to decided whether to trade or not {0,1} since the undelying model (cross m.a) has decided the side, {-1,1}"
   ]
  },
  {
   "cell_type": "code",
   "execution_count": 44,
   "metadata": {},
   "outputs": [
    {
     "name": "stderr",
     "output_type": "stream",
     "text": [
      "C:\\Users\\rex.wong\\AppData\\Local\\Continuum\\anaconda3\\envs\\rex\\lib\\site-packages\\sklearn\\ensemble\\weight_boosting.py:29: DeprecationWarning: numpy.core.umath_tests is an internal NumPy module and should not be imported. It will be removed in a future NumPy release.\n",
      "  from numpy.core.umath_tests import inner1d\n"
     ]
    }
   ],
   "source": [
    "from sklearn.ensemble import RandomForestClassifier\n",
    "from sklearn.model_selection import train_test_split\n",
    "from sklearn.metrics import roc_curve, classification_report"
   ]
  },
  {
   "cell_type": "code",
   "execution_count": 45,
   "metadata": {},
   "outputs": [
    {
     "data": {
      "text/html": [
       "<div>\n",
       "<style scoped>\n",
       "    .dataframe tbody tr th:only-of-type {\n",
       "        vertical-align: middle;\n",
       "    }\n",
       "\n",
       "    .dataframe tbody tr th {\n",
       "        vertical-align: top;\n",
       "    }\n",
       "\n",
       "    .dataframe thead th {\n",
       "        text-align: right;\n",
       "    }\n",
       "</style>\n",
       "<table border=\"1\" class=\"dataframe\">\n",
       "  <thead>\n",
       "    <tr style=\"text-align: right;\">\n",
       "      <th></th>\n",
       "      <th>0</th>\n",
       "    </tr>\n",
       "  </thead>\n",
       "  <tbody>\n",
       "    <tr>\n",
       "      <th>0.0</th>\n",
       "      <td>1.0</td>\n",
       "    </tr>\n",
       "    <tr>\n",
       "      <th>1.0</th>\n",
       "      <td>-1.0</td>\n",
       "    </tr>\n",
       "    <tr>\n",
       "      <th>1.0</th>\n",
       "      <td>-1.0</td>\n",
       "    </tr>\n",
       "    <tr>\n",
       "      <th>0.0</th>\n",
       "      <td>1.0</td>\n",
       "    </tr>\n",
       "    <tr>\n",
       "      <th>0.0</th>\n",
       "      <td>1.0</td>\n",
       "    </tr>\n",
       "    <tr>\n",
       "      <th>0.0</th>\n",
       "      <td>-1.0</td>\n",
       "    </tr>\n",
       "    <tr>\n",
       "      <th>0.0</th>\n",
       "      <td>1.0</td>\n",
       "    </tr>\n",
       "    <tr>\n",
       "      <th>1.0</th>\n",
       "      <td>1.0</td>\n",
       "    </tr>\n",
       "    <tr>\n",
       "      <th>1.0</th>\n",
       "      <td>-1.0</td>\n",
       "    </tr>\n",
       "    <tr>\n",
       "      <th>0.0</th>\n",
       "      <td>1.0</td>\n",
       "    </tr>\n",
       "    <tr>\n",
       "      <th>1.0</th>\n",
       "      <td>1.0</td>\n",
       "    </tr>\n",
       "    <tr>\n",
       "      <th>1.0</th>\n",
       "      <td>-1.0</td>\n",
       "    </tr>\n",
       "    <tr>\n",
       "      <th>1.0</th>\n",
       "      <td>1.0</td>\n",
       "    </tr>\n",
       "    <tr>\n",
       "      <th>0.0</th>\n",
       "      <td>-1.0</td>\n",
       "    </tr>\n",
       "    <tr>\n",
       "      <th>0.0</th>\n",
       "      <td>1.0</td>\n",
       "    </tr>\n",
       "    <tr>\n",
       "      <th>1.0</th>\n",
       "      <td>-1.0</td>\n",
       "    </tr>\n",
       "    <tr>\n",
       "      <th>0.0</th>\n",
       "      <td>1.0</td>\n",
       "    </tr>\n",
       "    <tr>\n",
       "      <th>1.0</th>\n",
       "      <td>-1.0</td>\n",
       "    </tr>\n",
       "    <tr>\n",
       "      <th>0.0</th>\n",
       "      <td>1.0</td>\n",
       "    </tr>\n",
       "    <tr>\n",
       "      <th>1.0</th>\n",
       "      <td>-1.0</td>\n",
       "    </tr>\n",
       "    <tr>\n",
       "      <th>1.0</th>\n",
       "      <td>1.0</td>\n",
       "    </tr>\n",
       "    <tr>\n",
       "      <th>1.0</th>\n",
       "      <td>1.0</td>\n",
       "    </tr>\n",
       "    <tr>\n",
       "      <th>1.0</th>\n",
       "      <td>1.0</td>\n",
       "    </tr>\n",
       "    <tr>\n",
       "      <th>1.0</th>\n",
       "      <td>-1.0</td>\n",
       "    </tr>\n",
       "    <tr>\n",
       "      <th>0.0</th>\n",
       "      <td>1.0</td>\n",
       "    </tr>\n",
       "    <tr>\n",
       "      <th>1.0</th>\n",
       "      <td>1.0</td>\n",
       "    </tr>\n",
       "    <tr>\n",
       "      <th>1.0</th>\n",
       "      <td>1.0</td>\n",
       "    </tr>\n",
       "    <tr>\n",
       "      <th>0.0</th>\n",
       "      <td>-1.0</td>\n",
       "    </tr>\n",
       "    <tr>\n",
       "      <th>0.0</th>\n",
       "      <td>1.0</td>\n",
       "    </tr>\n",
       "    <tr>\n",
       "      <th>1.0</th>\n",
       "      <td>-1.0</td>\n",
       "    </tr>\n",
       "    <tr>\n",
       "      <th>0.0</th>\n",
       "      <td>-1.0</td>\n",
       "    </tr>\n",
       "    <tr>\n",
       "      <th>1.0</th>\n",
       "      <td>1.0</td>\n",
       "    </tr>\n",
       "    <tr>\n",
       "      <th>0.0</th>\n",
       "      <td>1.0</td>\n",
       "    </tr>\n",
       "    <tr>\n",
       "      <th>0.0</th>\n",
       "      <td>-1.0</td>\n",
       "    </tr>\n",
       "    <tr>\n",
       "      <th>1.0</th>\n",
       "      <td>-1.0</td>\n",
       "    </tr>\n",
       "    <tr>\n",
       "      <th>1.0</th>\n",
       "      <td>-1.0</td>\n",
       "    </tr>\n",
       "    <tr>\n",
       "      <th>0.0</th>\n",
       "      <td>1.0</td>\n",
       "    </tr>\n",
       "    <tr>\n",
       "      <th>1.0</th>\n",
       "      <td>1.0</td>\n",
       "    </tr>\n",
       "    <tr>\n",
       "      <th>0.0</th>\n",
       "      <td>-1.0</td>\n",
       "    </tr>\n",
       "    <tr>\n",
       "      <th>1.0</th>\n",
       "      <td>1.0</td>\n",
       "    </tr>\n",
       "    <tr>\n",
       "      <th>0.0</th>\n",
       "      <td>-1.0</td>\n",
       "    </tr>\n",
       "    <tr>\n",
       "      <th>1.0</th>\n",
       "      <td>1.0</td>\n",
       "    </tr>\n",
       "    <tr>\n",
       "      <th>1.0</th>\n",
       "      <td>-1.0</td>\n",
       "    </tr>\n",
       "    <tr>\n",
       "      <th>1.0</th>\n",
       "      <td>-1.0</td>\n",
       "    </tr>\n",
       "    <tr>\n",
       "      <th>1.0</th>\n",
       "      <td>-1.0</td>\n",
       "    </tr>\n",
       "    <tr>\n",
       "      <th>1.0</th>\n",
       "      <td>1.0</td>\n",
       "    </tr>\n",
       "    <tr>\n",
       "      <th>0.0</th>\n",
       "      <td>1.0</td>\n",
       "    </tr>\n",
       "    <tr>\n",
       "      <th>0.0</th>\n",
       "      <td>-1.0</td>\n",
       "    </tr>\n",
       "    <tr>\n",
       "      <th>1.0</th>\n",
       "      <td>1.0</td>\n",
       "    </tr>\n",
       "    <tr>\n",
       "      <th>1.0</th>\n",
       "      <td>1.0</td>\n",
       "    </tr>\n",
       "    <tr>\n",
       "      <th>...</th>\n",
       "      <td>...</td>\n",
       "    </tr>\n",
       "    <tr>\n",
       "      <th>0.0</th>\n",
       "      <td>-1.0</td>\n",
       "    </tr>\n",
       "    <tr>\n",
       "      <th>1.0</th>\n",
       "      <td>1.0</td>\n",
       "    </tr>\n",
       "    <tr>\n",
       "      <th>0.0</th>\n",
       "      <td>1.0</td>\n",
       "    </tr>\n",
       "    <tr>\n",
       "      <th>0.0</th>\n",
       "      <td>1.0</td>\n",
       "    </tr>\n",
       "    <tr>\n",
       "      <th>1.0</th>\n",
       "      <td>-1.0</td>\n",
       "    </tr>\n",
       "    <tr>\n",
       "      <th>0.0</th>\n",
       "      <td>1.0</td>\n",
       "    </tr>\n",
       "    <tr>\n",
       "      <th>0.0</th>\n",
       "      <td>1.0</td>\n",
       "    </tr>\n",
       "    <tr>\n",
       "      <th>1.0</th>\n",
       "      <td>-1.0</td>\n",
       "    </tr>\n",
       "    <tr>\n",
       "      <th>0.0</th>\n",
       "      <td>-1.0</td>\n",
       "    </tr>\n",
       "    <tr>\n",
       "      <th>1.0</th>\n",
       "      <td>1.0</td>\n",
       "    </tr>\n",
       "    <tr>\n",
       "      <th>1.0</th>\n",
       "      <td>1.0</td>\n",
       "    </tr>\n",
       "    <tr>\n",
       "      <th>1.0</th>\n",
       "      <td>1.0</td>\n",
       "    </tr>\n",
       "    <tr>\n",
       "      <th>0.0</th>\n",
       "      <td>-1.0</td>\n",
       "    </tr>\n",
       "    <tr>\n",
       "      <th>0.0</th>\n",
       "      <td>-1.0</td>\n",
       "    </tr>\n",
       "    <tr>\n",
       "      <th>0.0</th>\n",
       "      <td>-1.0</td>\n",
       "    </tr>\n",
       "    <tr>\n",
       "      <th>0.0</th>\n",
       "      <td>-1.0</td>\n",
       "    </tr>\n",
       "    <tr>\n",
       "      <th>1.0</th>\n",
       "      <td>-1.0</td>\n",
       "    </tr>\n",
       "    <tr>\n",
       "      <th>1.0</th>\n",
       "      <td>1.0</td>\n",
       "    </tr>\n",
       "    <tr>\n",
       "      <th>0.0</th>\n",
       "      <td>-1.0</td>\n",
       "    </tr>\n",
       "    <tr>\n",
       "      <th>0.0</th>\n",
       "      <td>1.0</td>\n",
       "    </tr>\n",
       "    <tr>\n",
       "      <th>1.0</th>\n",
       "      <td>1.0</td>\n",
       "    </tr>\n",
       "    <tr>\n",
       "      <th>1.0</th>\n",
       "      <td>-1.0</td>\n",
       "    </tr>\n",
       "    <tr>\n",
       "      <th>0.0</th>\n",
       "      <td>-1.0</td>\n",
       "    </tr>\n",
       "    <tr>\n",
       "      <th>1.0</th>\n",
       "      <td>1.0</td>\n",
       "    </tr>\n",
       "    <tr>\n",
       "      <th>1.0</th>\n",
       "      <td>1.0</td>\n",
       "    </tr>\n",
       "    <tr>\n",
       "      <th>1.0</th>\n",
       "      <td>-1.0</td>\n",
       "    </tr>\n",
       "    <tr>\n",
       "      <th>1.0</th>\n",
       "      <td>1.0</td>\n",
       "    </tr>\n",
       "    <tr>\n",
       "      <th>1.0</th>\n",
       "      <td>1.0</td>\n",
       "    </tr>\n",
       "    <tr>\n",
       "      <th>0.0</th>\n",
       "      <td>-1.0</td>\n",
       "    </tr>\n",
       "    <tr>\n",
       "      <th>1.0</th>\n",
       "      <td>-1.0</td>\n",
       "    </tr>\n",
       "    <tr>\n",
       "      <th>1.0</th>\n",
       "      <td>-1.0</td>\n",
       "    </tr>\n",
       "    <tr>\n",
       "      <th>0.0</th>\n",
       "      <td>1.0</td>\n",
       "    </tr>\n",
       "    <tr>\n",
       "      <th>0.0</th>\n",
       "      <td>1.0</td>\n",
       "    </tr>\n",
       "    <tr>\n",
       "      <th>1.0</th>\n",
       "      <td>-1.0</td>\n",
       "    </tr>\n",
       "    <tr>\n",
       "      <th>0.0</th>\n",
       "      <td>-1.0</td>\n",
       "    </tr>\n",
       "    <tr>\n",
       "      <th>1.0</th>\n",
       "      <td>-1.0</td>\n",
       "    </tr>\n",
       "    <tr>\n",
       "      <th>1.0</th>\n",
       "      <td>1.0</td>\n",
       "    </tr>\n",
       "    <tr>\n",
       "      <th>1.0</th>\n",
       "      <td>-1.0</td>\n",
       "    </tr>\n",
       "    <tr>\n",
       "      <th>1.0</th>\n",
       "      <td>1.0</td>\n",
       "    </tr>\n",
       "    <tr>\n",
       "      <th>1.0</th>\n",
       "      <td>-1.0</td>\n",
       "    </tr>\n",
       "    <tr>\n",
       "      <th>1.0</th>\n",
       "      <td>1.0</td>\n",
       "    </tr>\n",
       "    <tr>\n",
       "      <th>0.0</th>\n",
       "      <td>-1.0</td>\n",
       "    </tr>\n",
       "    <tr>\n",
       "      <th>1.0</th>\n",
       "      <td>1.0</td>\n",
       "    </tr>\n",
       "    <tr>\n",
       "      <th>0.0</th>\n",
       "      <td>1.0</td>\n",
       "    </tr>\n",
       "    <tr>\n",
       "      <th>1.0</th>\n",
       "      <td>-1.0</td>\n",
       "    </tr>\n",
       "    <tr>\n",
       "      <th>0.0</th>\n",
       "      <td>-1.0</td>\n",
       "    </tr>\n",
       "    <tr>\n",
       "      <th>1.0</th>\n",
       "      <td>1.0</td>\n",
       "    </tr>\n",
       "    <tr>\n",
       "      <th>0.0</th>\n",
       "      <td>-1.0</td>\n",
       "    </tr>\n",
       "    <tr>\n",
       "      <th>0.0</th>\n",
       "      <td>1.0</td>\n",
       "    </tr>\n",
       "    <tr>\n",
       "      <th>0.0</th>\n",
       "      <td>-1.0</td>\n",
       "    </tr>\n",
       "  </tbody>\n",
       "</table>\n",
       "<p>102 rows × 1 columns</p>\n",
       "</div>"
      ],
      "text/plain": [
       "       0\n",
       "0.0  1.0\n",
       "1.0 -1.0\n",
       "1.0 -1.0\n",
       "0.0  1.0\n",
       "0.0  1.0\n",
       "0.0 -1.0\n",
       "0.0  1.0\n",
       "1.0  1.0\n",
       "1.0 -1.0\n",
       "0.0  1.0\n",
       "1.0  1.0\n",
       "1.0 -1.0\n",
       "1.0  1.0\n",
       "0.0 -1.0\n",
       "0.0  1.0\n",
       "1.0 -1.0\n",
       "0.0  1.0\n",
       "1.0 -1.0\n",
       "0.0  1.0\n",
       "1.0 -1.0\n",
       "1.0  1.0\n",
       "1.0  1.0\n",
       "1.0  1.0\n",
       "1.0 -1.0\n",
       "0.0  1.0\n",
       "1.0  1.0\n",
       "1.0  1.0\n",
       "0.0 -1.0\n",
       "0.0  1.0\n",
       "1.0 -1.0\n",
       "0.0 -1.0\n",
       "1.0  1.0\n",
       "0.0  1.0\n",
       "0.0 -1.0\n",
       "1.0 -1.0\n",
       "1.0 -1.0\n",
       "0.0  1.0\n",
       "1.0  1.0\n",
       "0.0 -1.0\n",
       "1.0  1.0\n",
       "0.0 -1.0\n",
       "1.0  1.0\n",
       "1.0 -1.0\n",
       "1.0 -1.0\n",
       "1.0 -1.0\n",
       "1.0  1.0\n",
       "0.0  1.0\n",
       "0.0 -1.0\n",
       "1.0  1.0\n",
       "1.0  1.0\n",
       "..   ...\n",
       "0.0 -1.0\n",
       "1.0  1.0\n",
       "0.0  1.0\n",
       "0.0  1.0\n",
       "1.0 -1.0\n",
       "0.0  1.0\n",
       "0.0  1.0\n",
       "1.0 -1.0\n",
       "0.0 -1.0\n",
       "1.0  1.0\n",
       "1.0  1.0\n",
       "1.0  1.0\n",
       "0.0 -1.0\n",
       "0.0 -1.0\n",
       "0.0 -1.0\n",
       "0.0 -1.0\n",
       "1.0 -1.0\n",
       "1.0  1.0\n",
       "0.0 -1.0\n",
       "0.0  1.0\n",
       "1.0  1.0\n",
       "1.0 -1.0\n",
       "0.0 -1.0\n",
       "1.0  1.0\n",
       "1.0  1.0\n",
       "1.0 -1.0\n",
       "1.0  1.0\n",
       "1.0  1.0\n",
       "0.0 -1.0\n",
       "1.0 -1.0\n",
       "1.0 -1.0\n",
       "0.0  1.0\n",
       "0.0  1.0\n",
       "1.0 -1.0\n",
       "0.0 -1.0\n",
       "1.0 -1.0\n",
       "1.0  1.0\n",
       "1.0 -1.0\n",
       "1.0  1.0\n",
       "1.0 -1.0\n",
       "1.0  1.0\n",
       "0.0 -1.0\n",
       "1.0  1.0\n",
       "0.0  1.0\n",
       "1.0 -1.0\n",
       "0.0 -1.0\n",
       "1.0  1.0\n",
       "0.0 -1.0\n",
       "0.0  1.0\n",
       "0.0 -1.0\n",
       "\n",
       "[102 rows x 1 columns]"
      ]
     },
     "execution_count": 45,
     "metadata": {},
     "output_type": "execute_result"
    }
   ],
   "source": [
    "X = ma_side.values.reshape(-1,1)\n",
    "y = ma_bins.bin.values\n",
    "pd.DataFrame(X,y)"
   ]
  },
  {
   "cell_type": "code",
   "execution_count": 50,
   "metadata": {},
   "outputs": [],
   "source": [
    "X_train, X_test, y_train, y_test = train_test_split(X,y,test_size=0.5, shuffle = False)"
   ]
  },
  {
   "cell_type": "code",
   "execution_count": 51,
   "metadata": {},
   "outputs": [
    {
     "data": {
      "text/plain": [
       "RandomForestClassifier(bootstrap=True, class_weight=None, criterion='entropy',\n",
       "            max_depth=2, max_features='auto', max_leaf_nodes=None,\n",
       "            min_impurity_decrease=0.0, min_impurity_split=None,\n",
       "            min_samples_leaf=1, min_samples_split=2,\n",
       "            min_weight_fraction_leaf=0.0, n_estimators=10000, n_jobs=1,\n",
       "            oob_score=False, random_state=777, verbose=0, warm_start=False)"
      ]
     },
     "execution_count": 51,
     "metadata": {},
     "output_type": "execute_result"
    }
   ],
   "source": [
    "n_estimator = 10000\n",
    "rf = RandomForestClassifier(max_depth = 2, n_estimators=n_estimator,\n",
    "                            criterion = 'entropy', random_state = RANDOM_STATE)\n",
    "rf.fit(X_train, y_train)"
   ]
  },
  {
   "cell_type": "code",
   "execution_count": 52,
   "metadata": {},
   "outputs": [
    {
     "name": "stdout",
     "output_type": "stream",
     "text": [
      "             precision    recall  f1-score   support\n",
      "\n",
      "        0.0       0.00      0.00      0.00        24\n",
      "        1.0       0.53      1.00      0.69        27\n",
      "\n",
      "avg / total       0.28      0.53      0.37        51\n",
      "\n"
     ]
    },
    {
     "data": {
      "image/png": "[encoded data removed]",
      "text/plain": [
       "<Figure size 432x288 with 1 Axes>"
      ]
     },
     "metadata": {
      "needs_background": "light"
     },
     "output_type": "display_data"
    }
   ],
   "source": [
    "# The random forest model by itself\n",
    "\n",
    "y_pred_rf = rf.predict_proba(X_test)[:,1]\n",
    "y_pred = rf.predict(X_test)\n",
    "\n",
    "fpr_rf, tpr_rf, _ = roc_curve(y_test, y_pred_rf)\n",
    "print(classification_report(y_test, y_pred))\n",
    "      \n",
    "plt.figure(1)\n",
    "plt.plot([0, 1], [0, 1], 'k--')\n",
    "plt.plot(fpr_rf, tpr_rf, label='RF')\n",
    "plt.xlabel('False positive rate')\n",
    "plt.ylabel('True positive rate')\n",
    "plt.title('ROC curve')\n",
    "plt.legend(loc='best')\n",
    "plt.show()"
   ]
  }
 ],
 "metadata": {
  "kernelspec": {
   "display_name": "Python 3",
   "language": "python",
   "name": "python3"
  },
  "language_info": {
   "codemirror_mode": {
    "name": "ipython",
    "version": 3
   },
   "file_extension": ".py",
   "mimetype": "text/x-python",
   "name": "python",
   "nbconvert_exporter": "python",
   "pygments_lexer": "ipython3",
   "version": "3.6.6"
  }
 },
 "nbformat": 4,
 "nbformat_minor": 2
}
