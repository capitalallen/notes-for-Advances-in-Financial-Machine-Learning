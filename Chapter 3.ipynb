{
 "cells": [
  {
   "cell_type": "code",
   "execution_count": 20,
   "metadata": {},
   "outputs": [
    {
     "name": "stdout",
     "output_type": "stream",
     "text": [
      "The autoreload extension is already loaded. To reload it, use:\n",
      "  %reload_ext autoreload\n",
      "\n"
     ]
    }
   ],
   "source": [
    "%load_ext autoreload\n",
    "%autoreload 2\n",
    "\n",
    "# get project dir\n",
    "# import standard libs\n",
    "from IPython.display import display\n",
    "from IPython.core.debugger import set_trace as bp\n",
    "from pathlib import PurePath, Path\n",
    "import sys\n",
    "import time\n",
    "from collections import OrderedDict as od\n",
    "import re\n",
    "import os\n",
    "import json\n",
    "\n",
    "pp = PurePath(Path.cwd()).parts[:]\n",
    "pdir = PurePath(*pp)\n",
    "data_script_dir = pdir / 'src' / 'data'\n",
    "bars_script_dir = pdir / 'src' / 'features'\n",
    "sys.path.append(data_script_dir.as_posix())\n",
    "sys.path.append(bars_script_dir.as_posix())\n",
    "viz_dir = pdir / 'reports' / 'figures'\n",
    "data_dir = pdir / 'data'\n",
    "\n",
    "# import python scientific stack\n",
    "import pandas as pd\n",
    "pd.set_option('display.max_rows', 100)\n",
    "from dask import dataframe as dd\n",
    "from dask.diagnostics import ProgressBar\n",
    "from multiprocessing import cpu_count\n",
    "pbar = ProgressBar()\n",
    "pbar.register()\n",
    "import numpy as np\n",
    "import scipy.stats as stats\n",
    "import statsmodels.api as sm\n",
    "from numba import jit\n",
    "import math\n",
    "\n",
    "# import visual tools\n",
    "import matplotlib as mpl\n",
    "import matplotlib.pyplot as plt\n",
    "import matplotlib.gridspec as gridspec\n",
    "%matplotlib inline\n",
    "import seaborn as sns\n",
    "\n",
    "plt.style.use('seaborn-talk')\n",
    "plt.style.use('bmh')\n",
    "#plt.rcParams['font.family'] = 'DejaVu Sans Mono'\n",
    "plt.rcParams['font.size'] = 9.5\n",
    "plt.rcParams['font.weight'] = 'medium'\n",
    "plt.rcParams['figure.figsize'] = 10,7\n",
    "blue, green, red, purple, gold, teal = sns.color_palette('colorblind', 6)\n",
    "\n",
    "# import util libs\n",
    "# from tqdm import tqdm, tqdm_notebook\n",
    "import warnings\n",
    "warnings.filterwarnings(\"ignore\")\n",
    "from utils import *\n",
    "from bars import *\n",
    "from labelling import *\n",
    "\n",
    "RANDOM_STATE = 777\n",
    "\n",
    "print()"
   ]
  },
  {
   "cell_type": "code",
   "execution_count": 2,
   "metadata": {},
   "outputs": [],
   "source": [
    "def read_bbg_ticks(fp):\n",
    "    df = (pd.read_csv(infp)\n",
    "            .assign(dates = lambda raw_df: pd.to_datetime(raw_df['Unnamed: 0']))\n",
    "            .assign(volume = lambda raw_df: raw_df['size'])\n",
    "            .assign(price = lambda raw_df: raw_df['value'])\n",
    "            .drop(['Unnamed: 0','type','size','value'],axis = 1)\n",
    "            #.set_index('dates')\n",
    "         )\n",
    "    return df"
   ]
  },
  {
   "cell_type": "code",
   "execution_count": 3,
   "metadata": {},
   "outputs": [],
   "source": [
    "infp = PurePath(data_dir/'raw'/'12 HK Equity.csv')\n",
    "df = read_bbg_ticks(infp)"
   ]
  },
  {
   "cell_type": "code",
   "execution_count": 4,
   "metadata": {},
   "outputs": [
    {
     "name": "stdout",
     "output_type": "stream",
     "text": [
      "-------------------------------------------------------------------------------\n",
      "dataframe information\n",
      "-------------------------------------------------------------------------------\n",
      "                     dates  volume  price\n",
      "191886 2018-10-03 16:08:25    2000   39.0\n",
      "191887 2018-10-03 16:08:25   10000   39.0\n",
      "191888 2018-10-03 16:08:25    1000   39.0\n",
      "191889 2018-10-03 16:08:25    1000   39.0\n",
      "191890 2018-10-03 16:08:27       0   39.0\n",
      "--------------------------------------------------\n",
      "<class 'pandas.core.frame.DataFrame'>\n",
      "RangeIndex: 191891 entries, 0 to 191890\n",
      "Data columns (total 3 columns):\n",
      "dates     191891 non-null datetime64[ns]\n",
      "volume    191891 non-null int64\n",
      "price     191891 non-null float64\n",
      "dtypes: datetime64[ns](1), float64(1), int64(1)\n",
      "memory usage: 4.4 MB\n",
      "None\n",
      "-------------------------------------------------------------------------------\n",
      "\n"
     ]
    }
   ],
   "source": [
    "cprint(df)"
   ]
  },
  {
   "cell_type": "code",
   "execution_count": 5,
   "metadata": {},
   "outputs": [],
   "source": [
    "n_ticks = df.shape[0]"
   ]
  },
  {
   "cell_type": "code",
   "execution_count": 6,
   "metadata": {},
   "outputs": [
    {
     "name": "stdout",
     "output_type": "stream",
     "text": [
      "2203.0\n"
     ]
    }
   ],
   "source": [
    "volume_ratio = (df.volume.sum()/n_ticks).round()\n",
    "print(volume_ratio)"
   ]
  },
  {
   "cell_type": "code",
   "execution_count": 7,
   "metadata": {},
   "outputs": [],
   "source": [
    "volume_M = volume_ratio"
   ]
  },
  {
   "cell_type": "code",
   "execution_count": 8,
   "metadata": {},
   "outputs": [],
   "source": [
    "v_bar_df = volume_bar_df(df,'volume',volume_M)"
   ]
  },
  {
   "cell_type": "code",
   "execution_count": 9,
   "metadata": {},
   "outputs": [
    {
     "name": "stdout",
     "output_type": "stream",
     "text": [
      "-------------------------------------------------------------------------------\n",
      "dataframe information\n",
      "-------------------------------------------------------------------------------\n",
      "                         dates  volume  price\n",
      "191849 2018-10-03 16:08:25.004   15000   39.0\n",
      "191851 2018-10-03 16:08:25.005   17000   39.0\n",
      "191856 2018-10-03 16:08:25.006    3000   39.0\n",
      "191872 2018-10-03 16:08:25.007    2000   39.0\n",
      "191879 2018-10-03 16:08:25.008   10000   39.0\n",
      "--------------------------------------------------\n",
      "<class 'pandas.core.frame.DataFrame'>\n",
      "Int64Index: 68235 entries, 1 to 191879\n",
      "Data columns (total 3 columns):\n",
      "dates     68235 non-null datetime64[ns]\n",
      "volume    68235 non-null int64\n",
      "price     68235 non-null float64\n",
      "dtypes: datetime64[ns](1), float64(1), int64(1)\n",
      "memory usage: 2.1 MB\n",
      "None\n",
      "-------------------------------------------------------------------------------\n",
      "\n"
     ]
    }
   ],
   "source": [
    "cprint(v_bar_df)"
   ]
  },
  {
   "cell_type": "code",
   "execution_count": 10,
   "metadata": {},
   "outputs": [],
   "source": [
    "v_bar_df.set_index('dates', inplace=True)"
   ]
  },
  {
   "cell_type": "code",
   "execution_count": 11,
   "metadata": {},
   "outputs": [
    {
     "name": "stdout",
     "output_type": "stream",
     "text": [
      "-------------------------------------------------------------------------------\n",
      "dataframe information\n",
      "-------------------------------------------------------------------------------\n",
      "                         volume  price\n",
      "dates                                 \n",
      "2018-10-03 16:08:25.004   15000   39.0\n",
      "2018-10-03 16:08:25.005   17000   39.0\n",
      "2018-10-03 16:08:25.006    3000   39.0\n",
      "2018-10-03 16:08:25.007    2000   39.0\n",
      "2018-10-03 16:08:25.008   10000   39.0\n",
      "--------------------------------------------------\n",
      "<class 'pandas.core.frame.DataFrame'>\n",
      "DatetimeIndex: 68235 entries, 2018-03-23 09:20:00 to 2018-10-03 16:08:25.008000\n",
      "Data columns (total 2 columns):\n",
      "volume    68235 non-null int64\n",
      "price     68235 non-null float64\n",
      "dtypes: float64(1), int64(1)\n",
      "memory usage: 1.6 MB\n",
      "None\n",
      "-------------------------------------------------------------------------------\n",
      "\n"
     ]
    }
   ],
   "source": [
    "cprint(v_bar_df)"
   ]
  },
  {
   "cell_type": "code",
   "execution_count": 12,
   "metadata": {},
   "outputs": [],
   "source": [
    "close = v_bar_df.price.copy()\n",
    "dailyVol = getDailyVol(close)"
   ]
  },
  {
   "cell_type": "code",
   "execution_count": 13,
   "metadata": {},
   "outputs": [
    {
     "name": "stdout",
     "output_type": "stream",
     "text": [
      "-------------------------------------------------------------------------------\n",
      "dataframe information\n",
      "-------------------------------------------------------------------------------\n",
      "                         dailyVol\n",
      "dates                            \n",
      "2018-10-03 16:08:25.004  0.003088\n",
      "2018-10-03 16:08:25.005  0.003058\n",
      "2018-10-03 16:08:25.006  0.003029\n",
      "2018-10-03 16:08:25.007  0.003000\n",
      "2018-10-03 16:08:25.008  0.002971\n",
      "--------------------------------------------------\n",
      "<class 'pandas.core.frame.DataFrame'>\n",
      "DatetimeIndex: 67321 entries, 2018-03-26 09:20:00 to 2018-10-03 16:08:25.008000\n",
      "Data columns (total 1 columns):\n",
      "dailyVol    67320 non-null float64\n",
      "dtypes: float64(1)\n",
      "memory usage: 1.0 MB\n",
      "None\n",
      "-------------------------------------------------------------------------------\n",
      "\n"
     ]
    }
   ],
   "source": [
    "cprint(dailyVol)"
   ]
  },
  {
   "cell_type": "code",
   "execution_count": 14,
   "metadata": {},
   "outputs": [
    {
     "name": "stdout",
     "output_type": "stream",
     "text": [
      "-------------------------------------------------------------------------------\n",
      "dataframe information\n",
      "-------------------------------------------------------------------------------\n",
      "                         dailyVol\n",
      "dates                            \n",
      "2018-10-03 16:08:25.004  0.003088\n",
      "2018-10-03 16:08:25.005  0.003058\n",
      "2018-10-03 16:08:25.006  0.003029\n",
      "2018-10-03 16:08:25.007  0.003000\n",
      "2018-10-03 16:08:25.008  0.002971\n",
      "--------------------------------------------------\n",
      "<class 'pandas.core.frame.DataFrame'>\n",
      "DatetimeIndex: 67321 entries, 2018-03-26 09:20:00 to 2018-10-03 16:08:25.008000\n",
      "Data columns (total 1 columns):\n",
      "dailyVol    67320 non-null float64\n",
      "dtypes: float64(1)\n",
      "memory usage: 1.0 MB\n",
      "None\n",
      "-------------------------------------------------------------------------------\n",
      "\n"
     ]
    }
   ],
   "source": [
    "cprint(dailyVol.to_frame())"
   ]
  },
  {
   "cell_type": "code",
   "execution_count": 15,
   "metadata": {},
   "outputs": [],
   "source": [
    "threshold = 1.65*dailyVol.std()+ dailyVol.mean()\n",
    "retClose = returns(close)\n",
    "tEvents = getTEvents(retClose, h = threshold)"
   ]
  },
  {
   "cell_type": "code",
   "execution_count": 16,
   "metadata": {},
   "outputs": [
    {
     "data": {
      "text/plain": [
       "DatetimeIndex([       '2018-03-23 09:31:00',        '2018-03-23 15:07:16',\n",
       "                      '2018-03-23 15:08:00',        '2018-03-23 15:10:31',\n",
       "                      '2018-03-26 09:20:00', '2018-03-26 09:20:00.001000',\n",
       "                      '2018-03-27 09:20:00', '2018-03-27 09:20:00.001000',\n",
       "                      '2018-03-29 09:30:01',        '2018-03-29 09:30:24',\n",
       "               ...\n",
       "                      '2018-10-02 09:30:04',        '2018-10-02 09:30:05',\n",
       "                      '2018-10-02 09:30:07',        '2018-10-02 09:30:27',\n",
       "                      '2018-10-02 09:30:36',        '2018-10-03 09:20:00',\n",
       "               '2018-10-03 09:20:00.001000', '2018-10-03 09:30:01.001000',\n",
       "                      '2018-10-03 09:30:03',        '2018-10-03 09:30:06'],\n",
       "              dtype='datetime64[ns]', length=423, freq=None)"
      ]
     },
     "execution_count": 16,
     "metadata": {},
     "output_type": "execute_result"
    }
   ],
   "source": [
    "tEvents"
   ]
  },
  {
   "cell_type": "code",
   "execution_count": 17,
   "metadata": {},
   "outputs": [],
   "source": [
    "t1 = addVerticalBarrier(tEvents, close)"
   ]
  },
  {
   "cell_type": "code",
   "execution_count": 18,
   "metadata": {},
   "outputs": [
    {
     "name": "stdout",
     "output_type": "stream",
     "text": [
      "-------------------------------------------------------------------------------\n",
      "dataframe information\n",
      "-------------------------------------------------------------------------------\n",
      "                                  dates\n",
      "2018-10-02 09:30:04 2018-10-03 09:30:06\n",
      "2018-10-02 09:30:05 2018-10-03 09:30:06\n",
      "2018-10-02 09:30:07 2018-10-03 09:30:08\n",
      "2018-10-02 09:30:27 2018-10-03 09:30:38\n",
      "2018-10-02 09:30:36 2018-10-03 09:30:38\n",
      "--------------------------------------------------\n",
      "<class 'pandas.core.frame.DataFrame'>\n",
      "DatetimeIndex: 418 entries, 2018-03-23 09:31:00 to 2018-10-02 09:30:36\n",
      "Data columns (total 1 columns):\n",
      "dates    418 non-null datetime64[ns]\n",
      "dtypes: datetime64[ns](1)\n",
      "memory usage: 6.5 KB\n",
      "None\n",
      "-------------------------------------------------------------------------------\n",
      "\n"
     ]
    }
   ],
   "source": [
    "cprint(t1)"
   ]
  },
  {
   "cell_type": "code",
   "execution_count": 26,
   "metadata": {},
   "outputs": [],
   "source": [
    "ptSl = [1,1]\n",
    "target = dailyVol\n",
    "\n",
    "# select minRet\n",
    "minRet = 0.001\n",
    "# Run in single-threaded mode on Windows\n",
    "import platform\n",
    "\n",
    "if platform.system() == 'Windows':\n",
    "    cpus = 1\n",
    "else:\n",
    "    cpus = cpu_count() - 1\n",
    "\n",
    "events = getEvents(close, tEvents, ptSl, target, minRet, 1, t1 = t1)\n",
    "\n",
    "\n"
   ]
  },
  {
   "cell_type": "code",
   "execution_count": 27,
   "metadata": {},
   "outputs": [
    {
     "name": "stdout",
     "output_type": "stream",
     "text": [
      "-------------------------------------------------------------------------------\n",
      "dataframe information\n",
      "-------------------------------------------------------------------------------\n",
      "                                         t1      trgt\n",
      "2018-10-03 09:20:00.000 2018-10-03 09:30:01  0.001577\n",
      "2018-10-03 09:20:00.001 2018-10-03 09:30:01  0.001585\n",
      "2018-10-03 09:30:01.001 2018-10-03 09:30:03  0.002481\n",
      "2018-10-03 09:30:03.000 2018-10-03 09:30:08  0.002572\n",
      "2018-10-03 09:30:06.000 2018-10-03 09:31:36  0.002710\n",
      "--------------------------------------------------\n",
      "<class 'pandas.core.frame.DataFrame'>\n",
      "DatetimeIndex: 415 entries, 2018-03-27 09:20:00 to 2018-10-03 09:30:06\n",
      "Data columns (total 2 columns):\n",
      "t1      415 non-null datetime64[ns]\n",
      "trgt    415 non-null float64\n",
      "dtypes: datetime64[ns](1), float64(1)\n",
      "memory usage: 29.7 KB\n",
      "None\n",
      "-------------------------------------------------------------------------------\n",
      "\n"
     ]
    }
   ],
   "source": [
    "cprint(events)"
   ]
  },
  {
   "cell_type": "code",
   "execution_count": 28,
   "metadata": {},
   "outputs": [],
   "source": [
    "labels = getBins(events, close)"
   ]
  },
  {
   "cell_type": "code",
   "execution_count": 29,
   "metadata": {},
   "outputs": [
    {
     "name": "stdout",
     "output_type": "stream",
     "text": [
      "-------------------------------------------------------------------------------\n",
      "dataframe information\n",
      "-------------------------------------------------------------------------------\n",
      "                              ret  bin\n",
      "2018-10-03 09:20:00.000  0.003922  1.0\n",
      "2018-10-03 09:20:00.001  0.003922  1.0\n",
      "2018-10-03 09:30:01.001 -0.007732 -1.0\n",
      "2018-10-03 09:30:03.000  0.003896  1.0\n",
      "2018-10-03 09:30:06.000  0.003891  1.0\n",
      "--------------------------------------------------\n",
      "<class 'pandas.core.frame.DataFrame'>\n",
      "DatetimeIndex: 415 entries, 2018-03-27 09:20:00 to 2018-10-03 09:30:06\n",
      "Data columns (total 2 columns):\n",
      "ret    415 non-null float64\n",
      "bin    415 non-null float64\n",
      "dtypes: float64(2)\n",
      "memory usage: 29.7 KB\n",
      "None\n",
      "-------------------------------------------------------------------------------\n",
      "\n"
     ]
    }
   ],
   "source": [
    "cprint(labels)"
   ]
  },
  {
   "cell_type": "code",
   "execution_count": 30,
   "metadata": {},
   "outputs": [
    {
     "data": {
      "text/plain": [
       " 1.0    206\n",
       "-1.0    205\n",
       " 0.0      4\n",
       "Name: bin, dtype: int64"
      ]
     },
     "execution_count": 30,
     "metadata": {},
     "output_type": "execute_result"
    }
   ],
   "source": [
    "labels.bin.value_counts()"
   ]
  },
  {
   "cell_type": "code",
   "execution_count": 32,
   "metadata": {},
   "outputs": [
    {
     "name": "stdout",
     "output_type": "stream",
     "text": [
      "-------------------------------------------------------------------------------\n",
      "dataframe information\n",
      "-------------------------------------------------------------------------------\n",
      "                         price       fast       slow\n",
      "dates                                               \n",
      "2018-10-03 16:08:25.004   39.0  39.007017  39.021842\n",
      "2018-10-03 16:08:25.005   39.0  39.005263  39.019112\n",
      "2018-10-03 16:08:25.006   39.0  39.003947  39.016723\n",
      "2018-10-03 16:08:25.007   39.0  39.002961  39.014633\n",
      "2018-10-03 16:08:25.008   39.0  39.002220  39.012804\n",
      "--------------------------------------------------\n",
      "<class 'pandas.core.frame.DataFrame'>\n",
      "DatetimeIndex: 68235 entries, 2018-03-23 09:20:00 to 2018-10-03 16:08:25.008000\n",
      "Data columns (total 3 columns):\n",
      "price    68235 non-null float64\n",
      "fast     68235 non-null float64\n",
      "slow     68235 non-null float64\n",
      "dtypes: float64(3)\n",
      "memory usage: 2.1 MB\n",
      "None\n",
      "-------------------------------------------------------------------------------\n",
      "\n"
     ]
    }
   ],
   "source": [
    "fast_window = 3\n",
    "slow_window = 7\n",
    "\n",
    "close_df = (pd.DataFrame()\n",
    "            .assign(price = close)\n",
    "            .assign(fast  = close.ewm(fast_window).mean())\n",
    "            .assign(slow  = close.ewm(slow_window).mean()))\n",
    "cprint(close_df)"
   ]
  },
  {
   "cell_type": "code",
   "execution_count": 34,
   "metadata": {},
   "outputs": [
    {
     "data": {
      "text/plain": [
       "<matplotlib.axes._subplots.AxesSubplot at 0xe0dd358>"
      ]
     },
     "execution_count": 34,
     "metadata": {},
     "output_type": "execute_result"
    },
    {
     "data": {
      "image/png": "[encoded data removed]",
      "text/plain": [
       "<Figure size 792x576 with 1 Axes>"
      ]
     },
     "metadata": {
      "needs_background": "light"
     },
     "output_type": "display_data"
    }
   ],
   "source": [
    "def get_up_cross(df):\n",
    "    crit1 = df.fast.shift(1) < df.slow.shift(1)\n",
    "    crit2 = df.fast > df.slow\n",
    "    return df.fast[(crit1)&(crit2)]\n",
    "\n",
    "def get_down_cross(df):\n",
    "    crit1 = df.fast.shift(1) > df.slow.shift(1)\n",
    "    crit2 = df.fast < df.slow\n",
    "    return df.slow[(crit1) & (crit2)]\n",
    "\n",
    "up = get_up_cross(close_df)\n",
    "down = get_down_cross(close_df)\n",
    "\n",
    "f, ax = plt.subplots(figsize=(11,8))\n",
    "\n",
    "close_df.loc[:].plot(ax=ax,alpha=.5)\n",
    "up.loc[:].plot(ax=ax,\n",
    "                     ls='',\n",
    "                     marker='^',\n",
    "                     markersize=7,\n",
    "                     alpha=.75,\n",
    "                     label='upcross',\n",
    "                     color = 'g')\n",
    "down.loc[:].plot(ax=ax,\n",
    "                     ls='',\n",
    "                     marker='v',\n",
    "                     markersize=7,\n",
    "                     alpha=.75,\n",
    "                     label='downcross',\n",
    "                     color = 'r')\n"
   ]
  },
  {
   "cell_type": "code",
   "execution_count": 36,
   "metadata": {},
   "outputs": [
    {
     "name": "stdout",
     "output_type": "stream",
     "text": [
      "-------------------------------------------------------------------------------\n",
      "dataframe information\n",
      "-------------------------------------------------------------------------------\n",
      "                     0\n",
      "dates                 \n",
      "2018-10-03 14:50:55 -1\n",
      "2018-10-03 15:47:40  1\n",
      "2018-10-03 15:56:30 -1\n",
      "2018-10-03 15:57:45  1\n",
      "2018-10-03 15:58:01 -1\n",
      "--------------------------------------------------\n",
      "<class 'pandas.core.frame.DataFrame'>\n",
      "DatetimeIndex: 5472 entries, 2018-03-23 09:37:34 to 2018-10-03 15:58:01\n",
      "Data columns (total 1 columns):\n",
      "0    5472 non-null int64\n",
      "dtypes: int64(1)\n",
      "memory usage: 85.5 KB\n",
      "None\n",
      "-------------------------------------------------------------------------------\n",
      "\n"
     ]
    }
   ],
   "source": [
    "# trading signal\n",
    "side_up = pd.Series(1,index = up.index)\n",
    "side_down = pd.Series(-1, index = down.index)\n",
    "side = pd.concat([side_up, side_down]).sort_index()\n",
    "cprint(side)"
   ]
  },
  {
   "cell_type": "code",
   "execution_count": 38,
   "metadata": {},
   "outputs": [
    {
     "name": "stdout",
     "output_type": "stream",
     "text": [
      "-------------------------------------------------------------------------------\n",
      "dataframe information\n",
      "-------------------------------------------------------------------------------\n",
      "                         side  t1      trgt\n",
      "2018-10-03 09:20:00.000   NaN NaT  0.001577\n",
      "2018-10-03 09:20:00.001   NaN NaT  0.001585\n",
      "2018-10-03 09:30:01.001   NaN NaT  0.002481\n",
      "2018-10-03 09:30:03.000   NaN NaT  0.002572\n",
      "2018-10-03 09:30:06.000   NaN NaT  0.002710\n",
      "--------------------------------------------------\n",
      "<class 'pandas.core.frame.DataFrame'>\n",
      "DatetimeIndex: 415 entries, 2018-03-27 09:20:00 to 2018-10-03 09:30:06\n",
      "Data columns (total 3 columns):\n",
      "side    78 non-null float64\n",
      "t1      410 non-null datetime64[ns]\n",
      "trgt    415 non-null float64\n",
      "dtypes: datetime64[ns](1), float64(2)\n",
      "memory usage: 33.0 KB\n",
      "None\n",
      "-------------------------------------------------------------------------------\n",
      "\n"
     ]
    }
   ],
   "source": [
    "minRet = .001\n",
    "ptSl = [1,2]\n",
    "ma_events = getEvents(close, tEvents, ptSl, target, minRet, cpus, t1 = t1, side = side)\n",
    "cprint(ma_events)"
   ]
  },
  {
   "cell_type": "code",
   "execution_count": 40,
   "metadata": {},
   "outputs": [
    {
     "data": {
      "text/plain": [
       " 1.0    40\n",
       "-1.0    38\n",
       "Name: side, dtype: int64"
      ]
     },
     "execution_count": 40,
     "metadata": {},
     "output_type": "execute_result"
    }
   ],
   "source": [
    "ma_events.side.value_counts()"
   ]
  },
  {
   "cell_type": "code",
   "execution_count": 41,
   "metadata": {},
   "outputs": [],
   "source": [
    "ma_side= ma_events.dropna().side"
   ]
  },
  {
   "cell_type": "code",
   "execution_count": 42,
   "metadata": {},
   "outputs": [],
   "source": [
    "ma_bins = getBins(ma_events,close).dropna()"
   ]
  },
  {
   "cell_type": "code",
   "execution_count": 43,
   "metadata": {},
   "outputs": [
    {
     "name": "stdout",
     "output_type": "stream",
     "text": [
      "-------------------------------------------------------------------------------\n",
      "dataframe information\n",
      "-------------------------------------------------------------------------------\n",
      "                              ret  bin\n",
      "2018-09-26 15:59:41.000 -0.003769  0.0\n",
      "2018-09-27 09:32:16.000  0.002513  1.0\n",
      "2018-10-02 09:30:03.002 -0.007634  0.0\n",
      "2018-10-02 09:30:07.000  0.003841  1.0\n",
      "2018-10-02 09:30:27.000 -0.006369  0.0\n",
      "--------------------------------------------------\n",
      "<class 'pandas.core.frame.DataFrame'>\n",
      "DatetimeIndex: 78 entries, 2018-03-27 09:20:00 to 2018-10-02 09:30:27\n",
      "Data columns (total 2 columns):\n",
      "ret    78 non-null float64\n",
      "bin    78 non-null float64\n",
      "dtypes: float64(2)\n",
      "memory usage: 1.8 KB\n",
      "None\n",
      "-------------------------------------------------------------------------------\n",
      "\n"
     ]
    }
   ],
   "source": [
    "cprint(ma_bins)"
   ]
  },
  {
   "cell_type": "code",
   "execution_count": 44,
   "metadata": {},
   "outputs": [],
   "source": [
    "Xx = pd.merge_asof(ma_bins, side.to_frame().rename(columns = {0:'side'}),\n",
    "                   left_index = True, right_index = True, direction = 'forward')"
   ]
  },
  {
   "cell_type": "code",
   "execution_count": 45,
   "metadata": {},
   "outputs": [
    {
     "data": {
      "text/plain": [
       "-0.16352309031925172"
      ]
     },
     "execution_count": 45,
     "metadata": {},
     "output_type": "execute_result"
    }
   ],
   "source": [
    "Xx.ret.sum()"
   ]
  },
  {
   "cell_type": "code",
   "execution_count": 46,
   "metadata": {},
   "outputs": [
    {
     "name": "stderr",
     "output_type": "stream",
     "text": [
      "C:\\Users\\rex.wong\\AppData\\Local\\Continuum\\anaconda3\\envs\\rex\\lib\\site-packages\\sklearn\\ensemble\\weight_boosting.py:29: DeprecationWarning: numpy.core.umath_tests is an internal NumPy module and should not be imported. It will be removed in a future NumPy release.\n",
      "  from numpy.core.umath_tests import inner1d\n"
     ]
    }
   ],
   "source": [
    "from sklearn.ensemble import RandomForestClassifier\n",
    "from sklearn.model_selection import train_test_split\n",
    "from sklearn.metrics import roc_curve, classification_report"
   ]
  },
  {
   "cell_type": "code",
   "execution_count": 47,
   "metadata": {},
   "outputs": [
    {
     "data": {
      "text/html": [
       "<div>\n",
       "<style scoped>\n",
       "    .dataframe tbody tr th:only-of-type {\n",
       "        vertical-align: middle;\n",
       "    }\n",
       "\n",
       "    .dataframe tbody tr th {\n",
       "        vertical-align: top;\n",
       "    }\n",
       "\n",
       "    .dataframe thead th {\n",
       "        text-align: right;\n",
       "    }\n",
       "</style>\n",
       "<table border=\"1\" class=\"dataframe\">\n",
       "  <thead>\n",
       "    <tr style=\"text-align: right;\">\n",
       "      <th></th>\n",
       "      <th>0</th>\n",
       "    </tr>\n",
       "  </thead>\n",
       "  <tbody>\n",
       "    <tr>\n",
       "      <th>0.0</th>\n",
       "      <td>1.0</td>\n",
       "    </tr>\n",
       "    <tr>\n",
       "      <th>0.0</th>\n",
       "      <td>-1.0</td>\n",
       "    </tr>\n",
       "    <tr>\n",
       "      <th>0.0</th>\n",
       "      <td>-1.0</td>\n",
       "    </tr>\n",
       "    <tr>\n",
       "      <th>0.0</th>\n",
       "      <td>-1.0</td>\n",
       "    </tr>\n",
       "    <tr>\n",
       "      <th>0.0</th>\n",
       "      <td>1.0</td>\n",
       "    </tr>\n",
       "    <tr>\n",
       "      <th>1.0</th>\n",
       "      <td>-1.0</td>\n",
       "    </tr>\n",
       "    <tr>\n",
       "      <th>0.0</th>\n",
       "      <td>-1.0</td>\n",
       "    </tr>\n",
       "    <tr>\n",
       "      <th>1.0</th>\n",
       "      <td>1.0</td>\n",
       "    </tr>\n",
       "    <tr>\n",
       "      <th>0.0</th>\n",
       "      <td>-1.0</td>\n",
       "    </tr>\n",
       "    <tr>\n",
       "      <th>0.0</th>\n",
       "      <td>1.0</td>\n",
       "    </tr>\n",
       "    <tr>\n",
       "      <th>0.0</th>\n",
       "      <td>1.0</td>\n",
       "    </tr>\n",
       "    <tr>\n",
       "      <th>1.0</th>\n",
       "      <td>1.0</td>\n",
       "    </tr>\n",
       "    <tr>\n",
       "      <th>1.0</th>\n",
       "      <td>-1.0</td>\n",
       "    </tr>\n",
       "    <tr>\n",
       "      <th>0.0</th>\n",
       "      <td>1.0</td>\n",
       "    </tr>\n",
       "    <tr>\n",
       "      <th>0.0</th>\n",
       "      <td>1.0</td>\n",
       "    </tr>\n",
       "    <tr>\n",
       "      <th>0.0</th>\n",
       "      <td>-1.0</td>\n",
       "    </tr>\n",
       "    <tr>\n",
       "      <th>0.0</th>\n",
       "      <td>1.0</td>\n",
       "    </tr>\n",
       "    <tr>\n",
       "      <th>0.0</th>\n",
       "      <td>1.0</td>\n",
       "    </tr>\n",
       "    <tr>\n",
       "      <th>0.0</th>\n",
       "      <td>-1.0</td>\n",
       "    </tr>\n",
       "    <tr>\n",
       "      <th>1.0</th>\n",
       "      <td>-1.0</td>\n",
       "    </tr>\n",
       "    <tr>\n",
       "      <th>1.0</th>\n",
       "      <td>1.0</td>\n",
       "    </tr>\n",
       "    <tr>\n",
       "      <th>0.0</th>\n",
       "      <td>-1.0</td>\n",
       "    </tr>\n",
       "    <tr>\n",
       "      <th>1.0</th>\n",
       "      <td>1.0</td>\n",
       "    </tr>\n",
       "    <tr>\n",
       "      <th>1.0</th>\n",
       "      <td>-1.0</td>\n",
       "    </tr>\n",
       "    <tr>\n",
       "      <th>1.0</th>\n",
       "      <td>-1.0</td>\n",
       "    </tr>\n",
       "    <tr>\n",
       "      <th>0.0</th>\n",
       "      <td>-1.0</td>\n",
       "    </tr>\n",
       "    <tr>\n",
       "      <th>0.0</th>\n",
       "      <td>1.0</td>\n",
       "    </tr>\n",
       "    <tr>\n",
       "      <th>0.0</th>\n",
       "      <td>-1.0</td>\n",
       "    </tr>\n",
       "    <tr>\n",
       "      <th>1.0</th>\n",
       "      <td>-1.0</td>\n",
       "    </tr>\n",
       "    <tr>\n",
       "      <th>0.0</th>\n",
       "      <td>1.0</td>\n",
       "    </tr>\n",
       "    <tr>\n",
       "      <th>0.0</th>\n",
       "      <td>-1.0</td>\n",
       "    </tr>\n",
       "    <tr>\n",
       "      <th>0.0</th>\n",
       "      <td>-1.0</td>\n",
       "    </tr>\n",
       "    <tr>\n",
       "      <th>1.0</th>\n",
       "      <td>1.0</td>\n",
       "    </tr>\n",
       "    <tr>\n",
       "      <th>1.0</th>\n",
       "      <td>-1.0</td>\n",
       "    </tr>\n",
       "    <tr>\n",
       "      <th>1.0</th>\n",
       "      <td>1.0</td>\n",
       "    </tr>\n",
       "    <tr>\n",
       "      <th>0.0</th>\n",
       "      <td>1.0</td>\n",
       "    </tr>\n",
       "    <tr>\n",
       "      <th>0.0</th>\n",
       "      <td>1.0</td>\n",
       "    </tr>\n",
       "    <tr>\n",
       "      <th>1.0</th>\n",
       "      <td>-1.0</td>\n",
       "    </tr>\n",
       "    <tr>\n",
       "      <th>1.0</th>\n",
       "      <td>1.0</td>\n",
       "    </tr>\n",
       "    <tr>\n",
       "      <th>1.0</th>\n",
       "      <td>1.0</td>\n",
       "    </tr>\n",
       "    <tr>\n",
       "      <th>0.0</th>\n",
       "      <td>1.0</td>\n",
       "    </tr>\n",
       "    <tr>\n",
       "      <th>1.0</th>\n",
       "      <td>1.0</td>\n",
       "    </tr>\n",
       "    <tr>\n",
       "      <th>0.0</th>\n",
       "      <td>-1.0</td>\n",
       "    </tr>\n",
       "    <tr>\n",
       "      <th>1.0</th>\n",
       "      <td>1.0</td>\n",
       "    </tr>\n",
       "    <tr>\n",
       "      <th>1.0</th>\n",
       "      <td>1.0</td>\n",
       "    </tr>\n",
       "    <tr>\n",
       "      <th>1.0</th>\n",
       "      <td>-1.0</td>\n",
       "    </tr>\n",
       "    <tr>\n",
       "      <th>0.0</th>\n",
       "      <td>1.0</td>\n",
       "    </tr>\n",
       "    <tr>\n",
       "      <th>1.0</th>\n",
       "      <td>1.0</td>\n",
       "    </tr>\n",
       "    <tr>\n",
       "      <th>0.0</th>\n",
       "      <td>1.0</td>\n",
       "    </tr>\n",
       "    <tr>\n",
       "      <th>1.0</th>\n",
       "      <td>-1.0</td>\n",
       "    </tr>\n",
       "    <tr>\n",
       "      <th>1.0</th>\n",
       "      <td>-1.0</td>\n",
       "    </tr>\n",
       "    <tr>\n",
       "      <th>0.0</th>\n",
       "      <td>-1.0</td>\n",
       "    </tr>\n",
       "    <tr>\n",
       "      <th>1.0</th>\n",
       "      <td>1.0</td>\n",
       "    </tr>\n",
       "    <tr>\n",
       "      <th>1.0</th>\n",
       "      <td>-1.0</td>\n",
       "    </tr>\n",
       "    <tr>\n",
       "      <th>0.0</th>\n",
       "      <td>1.0</td>\n",
       "    </tr>\n",
       "    <tr>\n",
       "      <th>1.0</th>\n",
       "      <td>-1.0</td>\n",
       "    </tr>\n",
       "    <tr>\n",
       "      <th>1.0</th>\n",
       "      <td>1.0</td>\n",
       "    </tr>\n",
       "    <tr>\n",
       "      <th>1.0</th>\n",
       "      <td>1.0</td>\n",
       "    </tr>\n",
       "    <tr>\n",
       "      <th>0.0</th>\n",
       "      <td>1.0</td>\n",
       "    </tr>\n",
       "    <tr>\n",
       "      <th>0.0</th>\n",
       "      <td>-1.0</td>\n",
       "    </tr>\n",
       "    <tr>\n",
       "      <th>1.0</th>\n",
       "      <td>-1.0</td>\n",
       "    </tr>\n",
       "    <tr>\n",
       "      <th>0.0</th>\n",
       "      <td>-1.0</td>\n",
       "    </tr>\n",
       "    <tr>\n",
       "      <th>0.0</th>\n",
       "      <td>1.0</td>\n",
       "    </tr>\n",
       "    <tr>\n",
       "      <th>1.0</th>\n",
       "      <td>-1.0</td>\n",
       "    </tr>\n",
       "    <tr>\n",
       "      <th>0.0</th>\n",
       "      <td>-1.0</td>\n",
       "    </tr>\n",
       "    <tr>\n",
       "      <th>0.0</th>\n",
       "      <td>1.0</td>\n",
       "    </tr>\n",
       "    <tr>\n",
       "      <th>0.0</th>\n",
       "      <td>-1.0</td>\n",
       "    </tr>\n",
       "    <tr>\n",
       "      <th>0.0</th>\n",
       "      <td>1.0</td>\n",
       "    </tr>\n",
       "    <tr>\n",
       "      <th>1.0</th>\n",
       "      <td>-1.0</td>\n",
       "    </tr>\n",
       "    <tr>\n",
       "      <th>1.0</th>\n",
       "      <td>1.0</td>\n",
       "    </tr>\n",
       "    <tr>\n",
       "      <th>0.0</th>\n",
       "      <td>1.0</td>\n",
       "    </tr>\n",
       "    <tr>\n",
       "      <th>0.0</th>\n",
       "      <td>1.0</td>\n",
       "    </tr>\n",
       "    <tr>\n",
       "      <th>0.0</th>\n",
       "      <td>-1.0</td>\n",
       "    </tr>\n",
       "    <tr>\n",
       "      <th>0.0</th>\n",
       "      <td>-1.0</td>\n",
       "    </tr>\n",
       "    <tr>\n",
       "      <th>1.0</th>\n",
       "      <td>-1.0</td>\n",
       "    </tr>\n",
       "    <tr>\n",
       "      <th>0.0</th>\n",
       "      <td>1.0</td>\n",
       "    </tr>\n",
       "    <tr>\n",
       "      <th>1.0</th>\n",
       "      <td>-1.0</td>\n",
       "    </tr>\n",
       "    <tr>\n",
       "      <th>0.0</th>\n",
       "      <td>1.0</td>\n",
       "    </tr>\n",
       "  </tbody>\n",
       "</table>\n",
       "</div>"
      ],
      "text/plain": [
       "       0\n",
       "0.0  1.0\n",
       "0.0 -1.0\n",
       "0.0 -1.0\n",
       "0.0 -1.0\n",
       "0.0  1.0\n",
       "1.0 -1.0\n",
       "0.0 -1.0\n",
       "1.0  1.0\n",
       "0.0 -1.0\n",
       "0.0  1.0\n",
       "0.0  1.0\n",
       "1.0  1.0\n",
       "1.0 -1.0\n",
       "0.0  1.0\n",
       "0.0  1.0\n",
       "0.0 -1.0\n",
       "0.0  1.0\n",
       "0.0  1.0\n",
       "0.0 -1.0\n",
       "1.0 -1.0\n",
       "1.0  1.0\n",
       "0.0 -1.0\n",
       "1.0  1.0\n",
       "1.0 -1.0\n",
       "1.0 -1.0\n",
       "0.0 -1.0\n",
       "0.0  1.0\n",
       "0.0 -1.0\n",
       "1.0 -1.0\n",
       "0.0  1.0\n",
       "0.0 -1.0\n",
       "0.0 -1.0\n",
       "1.0  1.0\n",
       "1.0 -1.0\n",
       "1.0  1.0\n",
       "0.0  1.0\n",
       "0.0  1.0\n",
       "1.0 -1.0\n",
       "1.0  1.0\n",
       "1.0  1.0\n",
       "0.0  1.0\n",
       "1.0  1.0\n",
       "0.0 -1.0\n",
       "1.0  1.0\n",
       "1.0  1.0\n",
       "1.0 -1.0\n",
       "0.0  1.0\n",
       "1.0  1.0\n",
       "0.0  1.0\n",
       "1.0 -1.0\n",
       "1.0 -1.0\n",
       "0.0 -1.0\n",
       "1.0  1.0\n",
       "1.0 -1.0\n",
       "0.0  1.0\n",
       "1.0 -1.0\n",
       "1.0  1.0\n",
       "1.0  1.0\n",
       "0.0  1.0\n",
       "0.0 -1.0\n",
       "1.0 -1.0\n",
       "0.0 -1.0\n",
       "0.0  1.0\n",
       "1.0 -1.0\n",
       "0.0 -1.0\n",
       "0.0  1.0\n",
       "0.0 -1.0\n",
       "0.0  1.0\n",
       "1.0 -1.0\n",
       "1.0  1.0\n",
       "0.0  1.0\n",
       "0.0  1.0\n",
       "0.0 -1.0\n",
       "0.0 -1.0\n",
       "1.0 -1.0\n",
       "0.0  1.0\n",
       "1.0 -1.0\n",
       "0.0  1.0"
      ]
     },
     "execution_count": 47,
     "metadata": {},
     "output_type": "execute_result"
    }
   ],
   "source": [
    "X = ma_side.values.reshape(-1,1)\n",
    "y = ma_bins.bin.values\n",
    "pd.DataFrame(X,y)"
   ]
  },
  {
   "cell_type": "code",
   "execution_count": 48,
   "metadata": {},
   "outputs": [],
   "source": [
    "X_train, X_test, y_train, y_test = train_test_split(X,y,test_size=0.5, shuffle = False)"
   ]
  },
  {
   "cell_type": "code",
   "execution_count": 49,
   "metadata": {},
   "outputs": [
    {
     "data": {
      "text/plain": [
       "RandomForestClassifier(bootstrap=True, class_weight=None, criterion='entropy',\n",
       "            max_depth=2, max_features='auto', max_leaf_nodes=None,\n",
       "            min_impurity_decrease=0.0, min_impurity_split=None,\n",
       "            min_samples_leaf=1, min_samples_split=2,\n",
       "            min_weight_fraction_leaf=0.0, n_estimators=777, n_jobs=1,\n",
       "            oob_score=False, random_state=777, verbose=0, warm_start=False)"
      ]
     },
     "execution_count": 49,
     "metadata": {},
     "output_type": "execute_result"
    }
   ],
   "source": [
    "n_estimator = 777\n",
    "rf = RandomForestClassifier(max_depth = 2, n_estimators=n_estimator,\n",
    "                            criterion = 'entropy', random_state = RANDOM_STATE)\n",
    "rf.fit(X_train, y_train)"
   ]
  },
  {
   "cell_type": "code",
   "execution_count": 50,
   "metadata": {},
   "outputs": [
    {
     "name": "stdout",
     "output_type": "stream",
     "text": [
      "             precision    recall  f1-score   support\n",
      "\n",
      "        0.0       0.51      1.00      0.68        20\n",
      "        1.0       0.00      0.00      0.00        19\n",
      "\n",
      "avg / total       0.26      0.51      0.35        39\n",
      "\n"
     ]
    },
    {
     "data": {
      "image/png": "[encoded data removed]",
      "text/plain": [
       "<Figure size 720x504 with 1 Axes>"
      ]
     },
     "metadata": {
      "needs_background": "light"
     },
     "output_type": "display_data"
    }
   ],
   "source": [
    "# The random forest model by itself\n",
    "\n",
    "y_pred_rf = rf.predict_proba(X_test)[:,1]\n",
    "y_pred = rf.predict(X_test)\n",
    "\n",
    "fpr_rf, tpr_rf, _ = roc_curve(y_test, y_pred_rf)\n",
    "print(classification_report(y_test, y_pred))\n",
    "      \n",
    "plt.figure(1)\n",
    "plt.plot([0, 1], [0, 1], 'k--')\n",
    "plt.plot(fpr_rf, tpr_rf, label='RF')\n",
    "plt.xlabel('False positive rate')\n",
    "plt.ylabel('True positive rate')\n",
    "plt.title('ROC curve')\n",
    "plt.legend(loc='best')\n",
    "plt.show()"
   ]
  },
  {
   "cell_type": "code",
   "execution_count": null,
   "metadata": {},
   "outputs": [],
   "source": []
  }
 ],
 "metadata": {
  "kernelspec": {
   "display_name": "Python [default]",
   "language": "python",
   "name": "python3"
  },
  "language_info": {
   "codemirror_mode": {
    "name": "ipython",
    "version": 3
   },
   "file_extension": ".py",
   "mimetype": "text/x-python",
   "name": "python",
   "nbconvert_exporter": "python",
   "pygments_lexer": "ipython3",
   "version": "3.6.6"
  }
 },
 "nbformat": 4,
 "nbformat_minor": 2
}
