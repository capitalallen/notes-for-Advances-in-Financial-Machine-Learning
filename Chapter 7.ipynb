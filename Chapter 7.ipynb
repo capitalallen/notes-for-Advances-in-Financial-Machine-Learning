{
 "cells": [
  {
   "cell_type": "code",
   "execution_count": 139,
   "metadata": {},
   "outputs": [
    {
     "name": "stdout",
     "output_type": "stream",
     "text": [
      "The autoreload extension is already loaded. To reload it, use:\n",
      "  %reload_ext autoreload\n"
     ]
    }
   ],
   "source": [
    "%load_ext autoreload\n",
    "%autoreload 2\n",
    "\n",
    "# get project dir\n",
    "# import standard libs\n",
    "from IPython.display import display\n",
    "from IPython.core.debugger import set_trace as bp\n",
    "from pathlib import PurePath, Path\n",
    "import sys\n",
    "import time\n",
    "from collections import OrderedDict as od\n",
    "import re\n",
    "import os\n",
    "import json\n",
    "\n",
    "pp = PurePath(Path.cwd()).parts[:]\n",
    "pdir = PurePath(*pp)\n",
    "data_script_dir = pdir / 'src' / 'data'\n",
    "bars_script_dir = pdir / 'src' / 'features'\n",
    "sys.path.append(data_script_dir.as_posix())\n",
    "sys.path.append(bars_script_dir.as_posix())\n",
    "viz_dir = pdir / 'reports' / 'figures'\n",
    "data_dir = pdir / 'data'\n",
    "\n",
    "# import python scientific stack\n",
    "import pandas as pd\n",
    "pd.set_option('display.max_rows', 100)\n",
    "from dask import dataframe as dd\n",
    "from dask.diagnostics import ProgressBar\n",
    "from multiprocessing import cpu_count\n",
    "pbar = ProgressBar()\n",
    "pbar.register()\n",
    "import numpy as np\n",
    "import scipy.stats as stats\n",
    "import statsmodels.api as sm\n",
    "from numba import jit\n",
    "import math\n",
    "\n",
    "# import visual tools\n",
    "import matplotlib as mpl\n",
    "import matplotlib.pyplot as plt\n",
    "import matplotlib.gridspec as gridspec\n",
    "%matplotlib inline\n",
    "import seaborn as sns\n",
    "\n",
    "plt.style.use('seaborn-talk')\n",
    "plt.style.use('bmh')\n",
    "#plt.rcParams['font.family'] = 'DejaVu Sans Mono'\n",
    "plt.rcParams['font.size'] = 9.5\n",
    "plt.rcParams['font.weight'] = 'medium'\n",
    "plt.rcParams['figure.figsize'] = 10,7\n",
    "blue, green, red, purple, gold, teal = sns.color_palette('colorblind', 6)\n",
    "\n",
    "# import util libs\n",
    "# from tqdm import tqdm, tqdm_notebook\n",
    "import warnings\n",
    "warnings.filterwarnings(\"ignore\")\n",
    "from utils import *\n",
    "from bars import *\n",
    "from labelling import *\n",
    "from mpEngine import *\n",
    "from sampleWeights import *\n",
    "from ffd import *\n",
    "\n",
    "RANDOM_STATE = 777\n"
   ]
  },
  {
   "cell_type": "markdown",
   "metadata": {},
   "source": [
    "### Import Chapter 4's data"
   ]
  },
  {
   "cell_type": "code",
   "execution_count": 42,
   "metadata": {},
   "outputs": [
    {
     "data": {
      "text/plain": [
       "dates\n",
       "2009-09-28 09:46:35         3.933197\n",
       "2009-09-28 09:53:49         7.867764\n",
       "2009-09-28 09:55:26        11.802331\n",
       "2009-09-28 10:02:52        15.739047\n",
       "2009-09-28 10:10:21        19.676543\n",
       "2009-09-28 10:19:36        23.612868\n",
       "2009-09-28 10:24:23        27.549584\n",
       "2009-09-28 10:34:30        31.487859\n",
       "2009-09-28 10:45:25        35.425939\n",
       "2009-09-28 11:10:57        39.364371\n",
       "2009-09-28 11:24:29        43.302451\n",
       "2009-09-28 11:37:06        47.241648\n",
       "2009-09-28 11:51:43        51.181869\n",
       "2009-09-28 12:03:21        55.122072\n",
       "2009-09-28 12:33:18        59.062876\n",
       "2009-09-28 13:20:29        63.004035\n",
       "2009-09-28 13:44:27        66.946870\n",
       "2009-09-28 14:05:46        70.888258\n",
       "2009-09-28 14:11:43        74.828285\n",
       "2009-09-28 14:18:53        78.769284\n",
       "2009-09-28 14:24:55        82.710283\n",
       "2009-09-28 14:28:41        86.652370\n",
       "2009-09-28 14:57:19        90.593200\n",
       "2009-09-28 15:34:40        94.535170\n",
       "2009-09-28 15:42:10        98.476740\n",
       "2009-09-29 09:27:39       102.424902\n",
       "2009-09-29 09:31:34       106.369779\n",
       "2009-09-29 09:59:21       110.319676\n",
       "2009-09-29 10:04:46       114.263357\n",
       "2009-09-29 10:31:39       118.208621\n",
       "2009-09-29 10:52:23       122.152143\n",
       "2009-09-29 11:34:53       126.094889\n",
       "2009-09-29 12:00:17       130.035507\n",
       "2009-09-29 12:34:54       133.978253\n",
       "2009-09-29 13:30:07       137.924484\n",
       "2009-09-29 14:18:35       141.869751\n",
       "2009-09-29 15:09:13       145.814628\n",
       "2009-09-29 15:34:28       149.757432\n",
       "2009-09-29 15:53:15       153.699014\n",
       "2009-09-30 09:32:03       157.643504\n",
       "2009-09-30 09:44:47       161.581780\n",
       "2009-09-30 09:56:31       165.512625\n",
       "2009-09-30 10:06:07       169.441308\n",
       "2009-09-30 10:37:22       173.370385\n",
       "2009-09-30 11:28:56       177.302565\n",
       "2009-09-30 11:57:40       181.235880\n",
       "2009-09-30 12:48:14       185.173181\n",
       "2009-09-30 13:21:56       189.113986\n",
       "2009-09-30 14:20:57       193.053556\n",
       "2009-09-30 14:49:59       196.992415\n",
       "                           ...      \n",
       "2018-10-04 15:08:32    225646.412774\n",
       "2018-10-04 15:31:17    225651.169378\n",
       "2018-10-04 15:41:04    225655.925637\n",
       "2018-10-04 15:47:18    225660.683786\n",
       "2018-10-04 15:51:37    225665.442098\n",
       "2018-10-04 15:58:47    225670.200332\n",
       "2018-10-04 15:59:59    225674.958567\n",
       "2018-10-04 16:00:00    225679.717145\n",
       "2018-10-05 09:34:01    225684.476922\n",
       "2018-10-05 09:37:27    225689.237985\n",
       "2018-10-05 09:48:50    225693.997505\n",
       "2018-10-05 10:00:15    225698.757796\n",
       "2018-10-05 10:05:11    225703.518431\n",
       "2018-10-05 10:11:14    225708.278123\n",
       "2018-10-05 10:39:29    225713.037301\n",
       "2018-10-05 10:50:40    225717.795450\n",
       "2018-10-05 11:02:25    225722.552998\n",
       "2018-10-05 11:11:13    225727.309944\n",
       "2018-10-05 11:34:04    225732.066460\n",
       "2018-10-05 11:42:09    225736.822203\n",
       "2018-10-05 11:53:14    225741.576397\n",
       "2018-10-05 12:09:26    225746.331193\n",
       "2018-10-05 12:20:43    225751.086017\n",
       "2018-10-05 12:34:52    225755.839693\n",
       "2018-10-05 12:55:39    225760.594318\n",
       "2018-10-05 13:02:36    225765.347597\n",
       "2018-10-05 13:20:59    225770.100096\n",
       "2018-10-05 13:34:37    225774.852267\n",
       "2018-10-05 13:41:35    225779.605665\n",
       "2018-10-05 13:48:37    225784.359831\n",
       "2018-10-05 13:53:51    225789.114628\n",
       "2018-10-05 14:07:46    225793.868520\n",
       "2018-10-05 14:24:25    225798.622915\n",
       "2018-10-05 14:31:30    225803.377626\n",
       "2018-10-05 14:42:20    225808.131647\n",
       "2018-10-05 14:56:39    225812.885668\n",
       "2018-10-05 15:08:37    225817.641153\n",
       "2018-10-05 15:22:55    225822.396294\n",
       "2018-10-05 15:27:58    225827.151090\n",
       "2018-10-05 15:33:58    225831.905370\n",
       "2018-10-05 15:45:00    225836.660336\n",
       "2018-10-05 15:48:02    225841.416251\n",
       "2018-10-05 15:53:55    225846.171594\n",
       "2018-10-05 15:56:25    225850.927165\n",
       "2018-10-05 15:57:50    225855.682822\n",
       "2018-10-05 15:58:23    225860.438048\n",
       "2018-10-05 15:59:20    225865.193189\n",
       "2018-10-05 15:59:55    225869.948416\n",
       "2018-10-05 15:59:59    225874.703729\n",
       "2018-10-05 16:00:00    225879.459214\n",
       "Name: price, Length: 49996, dtype: float64"
      ]
     },
     "execution_count": 42,
     "metadata": {},
     "output_type": "execute_result"
    }
   ],
   "source": [
    "infp=PurePath(data_dir/'processed'/'clean_IVE_fut_prices.parq')\n",
    "df = pd.read_parquet(infp)\n",
    "df = df.assign(dates = df.index)\n",
    "dbars = dollar_bar_df(df, 'dv', 1_000_000)\n",
    "dbars = dbars.drop(['dates'], axis = 1)\n",
    "x = np.log(dbars.price).cumsum()\n",
    "\n",
    "x = x[~x.index.duplicated()]\n",
    "x"
   ]
  },
  {
   "cell_type": "code",
   "execution_count": 37,
   "metadata": {},
   "outputs": [],
   "source": [
    "def get_optimal_ffd(data, start = 0, end = 1, interval = 10, t=1e-5):\n",
    "    \n",
    "    cols = ['adfStat','pVal','lags','nObs','95% conf']\n",
    "    out = pd.DataFrame(columns=cols)\n",
    "    \n",
    "    for d in np.linspace(start,end,interval):\n",
    "        try:\n",
    "            dfx = fracDiff_FFD(data.to_frame(),d,thres=t)\n",
    "            dfx = sm.tsa.stattools.adfuller(dfx['price'], maxlag=1,regression='c',autolag=None)\n",
    "            out.loc[d]=list(dfx[:4])+[dfx[4]['5%']]\n",
    "        except Exception as e:\n",
    "            print(f'{d} error: {e}')\n",
    "            \n",
    "    return out"
   ]
  },
  {
   "cell_type": "code",
   "execution_count": 40,
   "metadata": {},
   "outputs": [],
   "source": [
    "out = get_optimal_ffd(x, 0.7, 0.9, 10)"
   ]
  },
  {
   "cell_type": "code",
   "execution_count": 41,
   "metadata": {},
   "outputs": [
    {
     "data": {
      "text/html": [
       "<div>\n",
       "<style scoped>\n",
       "    .dataframe tbody tr th:only-of-type {\n",
       "        vertical-align: middle;\n",
       "    }\n",
       "\n",
       "    .dataframe tbody tr th {\n",
       "        vertical-align: top;\n",
       "    }\n",
       "\n",
       "    .dataframe thead th {\n",
       "        text-align: right;\n",
       "    }\n",
       "</style>\n",
       "<table border=\"1\" class=\"dataframe\">\n",
       "  <thead>\n",
       "    <tr style=\"text-align: right;\">\n",
       "      <th></th>\n",
       "      <th>adfStat</th>\n",
       "      <th>pVal</th>\n",
       "      <th>lags</th>\n",
       "      <th>nObs</th>\n",
       "      <th>95% conf</th>\n",
       "    </tr>\n",
       "  </thead>\n",
       "  <tbody>\n",
       "    <tr>\n",
       "      <th>0.700000</th>\n",
       "      <td>1.719794</td>\n",
       "      <td>0.998176</td>\n",
       "      <td>1.0</td>\n",
       "      <td>49623.0</td>\n",
       "      <td>-2.861598</td>\n",
       "    </tr>\n",
       "    <tr>\n",
       "      <th>0.722222</th>\n",
       "      <td>1.455154</td>\n",
       "      <td>0.997351</td>\n",
       "      <td>1.0</td>\n",
       "      <td>49660.0</td>\n",
       "      <td>-2.861598</td>\n",
       "    </tr>\n",
       "    <tr>\n",
       "      <th>0.744444</th>\n",
       "      <td>1.215508</td>\n",
       "      <td>0.996091</td>\n",
       "      <td>1.0</td>\n",
       "      <td>49694.0</td>\n",
       "      <td>-2.861598</td>\n",
       "    </tr>\n",
       "    <tr>\n",
       "      <th>0.766667</th>\n",
       "      <td>0.993576</td>\n",
       "      <td>0.994198</td>\n",
       "      <td>1.0</td>\n",
       "      <td>49725.0</td>\n",
       "      <td>-2.861598</td>\n",
       "    </tr>\n",
       "    <tr>\n",
       "      <th>0.788889</th>\n",
       "      <td>0.783315</td>\n",
       "      <td>0.991362</td>\n",
       "      <td>1.0</td>\n",
       "      <td>49753.0</td>\n",
       "      <td>-2.861598</td>\n",
       "    </tr>\n",
       "    <tr>\n",
       "      <th>0.811111</th>\n",
       "      <td>0.588334</td>\n",
       "      <td>0.987325</td>\n",
       "      <td>1.0</td>\n",
       "      <td>49780.0</td>\n",
       "      <td>-2.861598</td>\n",
       "    </tr>\n",
       "    <tr>\n",
       "      <th>0.833333</th>\n",
       "      <td>0.399265</td>\n",
       "      <td>0.981467</td>\n",
       "      <td>1.0</td>\n",
       "      <td>49805.0</td>\n",
       "      <td>-2.861598</td>\n",
       "    </tr>\n",
       "    <tr>\n",
       "      <th>0.855556</th>\n",
       "      <td>0.208277</td>\n",
       "      <td>0.972722</td>\n",
       "      <td>1.0</td>\n",
       "      <td>49828.0</td>\n",
       "      <td>-2.861598</td>\n",
       "    </tr>\n",
       "    <tr>\n",
       "      <th>0.877778</th>\n",
       "      <td>0.005890</td>\n",
       "      <td>0.959016</td>\n",
       "      <td>1.0</td>\n",
       "      <td>49849.0</td>\n",
       "      <td>-2.861598</td>\n",
       "    </tr>\n",
       "    <tr>\n",
       "      <th>0.900000</th>\n",
       "      <td>-0.207425</td>\n",
       "      <td>0.937631</td>\n",
       "      <td>1.0</td>\n",
       "      <td>49870.0</td>\n",
       "      <td>-2.861598</td>\n",
       "    </tr>\n",
       "  </tbody>\n",
       "</table>\n",
       "</div>"
      ],
      "text/plain": [
       "           adfStat      pVal  lags     nObs  95% conf\n",
       "0.700000  1.719794  0.998176   1.0  49623.0 -2.861598\n",
       "0.722222  1.455154  0.997351   1.0  49660.0 -2.861598\n",
       "0.744444  1.215508  0.996091   1.0  49694.0 -2.861598\n",
       "0.766667  0.993576  0.994198   1.0  49725.0 -2.861598\n",
       "0.788889  0.783315  0.991362   1.0  49753.0 -2.861598\n",
       "0.811111  0.588334  0.987325   1.0  49780.0 -2.861598\n",
       "0.833333  0.399265  0.981467   1.0  49805.0 -2.861598\n",
       "0.855556  0.208277  0.972722   1.0  49828.0 -2.861598\n",
       "0.877778  0.005890  0.959016   1.0  49849.0 -2.861598\n",
       "0.900000 -0.207425  0.937631   1.0  49870.0 -2.861598"
      ]
     },
     "execution_count": 41,
     "metadata": {},
     "output_type": "execute_result"
    }
   ],
   "source": [
    "out"
   ]
  },
  {
   "cell_type": "code",
   "execution_count": 12,
   "metadata": {},
   "outputs": [
    {
     "name": "stdout",
     "output_type": "stream",
     "text": [
      "The min. D that makes the fracdiff stationary 1.6111111111111112\n"
     ]
    }
   ],
   "source": [
    "min_ffd = out[out.pVal < 0.05].iloc[0].name\n",
    "print(\"The min. D that makes the fracdiff stationary\",min_ffd)"
   ]
  },
  {
   "cell_type": "markdown",
   "metadata": {},
   "source": [
    "### (c) Compute the correlation of the fracdiff series to the original (untransformed) series"
   ]
  },
  {
   "cell_type": "code",
   "execution_count": 43,
   "metadata": {},
   "outputs": [
    {
     "name": "stdout",
     "output_type": "stream",
     "text": [
      "-------------------------------------------------------------------------------\n",
      "dataframe information\n",
      "-------------------------------------------------------------------------------\n",
      "                        price\n",
      "2018-10-05 15:58:23 -0.000430\n",
      "2018-10-05 15:59:20 -0.000086\n",
      "2018-10-05 15:59:55  0.000086\n",
      "2018-10-05 15:59:59  0.000086\n",
      "2018-10-05 16:00:00  0.000172\n",
      "--------------------------------------------------\n",
      "<class 'pandas.core.frame.DataFrame'>\n",
      "DatetimeIndex: 49994 entries, 2009-09-28 09:55:26 to 2018-10-05 16:00:00\n",
      "Data columns (total 1 columns):\n",
      "price    49994 non-null float64\n",
      "dtypes: float64(1)\n",
      "memory usage: 781.2 KB\n",
      "None\n",
      "-------------------------------------------------------------------------------\n",
      "\n"
     ]
    },
    {
     "data": {
      "text/html": [
       "<div>\n",
       "<style scoped>\n",
       "    .dataframe tbody tr th:only-of-type {\n",
       "        vertical-align: middle;\n",
       "    }\n",
       "\n",
       "    .dataframe tbody tr th {\n",
       "        vertical-align: top;\n",
       "    }\n",
       "\n",
       "    .dataframe thead th {\n",
       "        text-align: right;\n",
       "    }\n",
       "</style>\n",
       "<table border=\"1\" class=\"dataframe\">\n",
       "  <thead>\n",
       "    <tr style=\"text-align: right;\">\n",
       "      <th></th>\n",
       "      <th>price</th>\n",
       "      <th>original</th>\n",
       "    </tr>\n",
       "  </thead>\n",
       "  <tbody>\n",
       "    <tr>\n",
       "      <th>price</th>\n",
       "      <td>1.000000</td>\n",
       "      <td>-0.000013</td>\n",
       "    </tr>\n",
       "    <tr>\n",
       "      <th>original</th>\n",
       "      <td>-0.000013</td>\n",
       "      <td>1.000000</td>\n",
       "    </tr>\n",
       "  </tbody>\n",
       "</table>\n",
       "</div>"
      ],
      "text/plain": [
       "             price  original\n",
       "price     1.000000 -0.000013\n",
       "original -0.000013  1.000000"
      ]
     },
     "execution_count": 43,
     "metadata": {},
     "output_type": "execute_result"
    }
   ],
   "source": [
    "min_ffd = 2\n",
    "dfx2 = fracDiff_FFD(x.to_frame(),min_ffd)\n",
    "cprint(dfx2)\n",
    "joined = dfx2.join(x.rename('original'),how='left')\n",
    "joined.corr()"
   ]
  },
  {
   "cell_type": "markdown",
   "metadata": {},
   "source": [
    "### (d) Apply Engel-Granger cointegration test on the original and fracdiff series. Are they cointegrated? Why?"
   ]
  },
  {
   "cell_type": "code",
   "execution_count": 44,
   "metadata": {},
   "outputs": [
    {
     "name": "stdout",
     "output_type": "stream",
     "text": [
      "p-value:  0.0\n",
      "They are cointegrated\n"
     ]
    }
   ],
   "source": [
    "coint_pval = sm.tsa.stattools.coint(joined.price, joined.original)[1]\n",
    "print(\"p-value: \", coint_pval)\n",
    "if coint_pval < 0.05:\n",
    "    print(\"They are cointegrated\")\n",
    "else:\n",
    "    print(\"They are not cointegrated\")"
   ]
  },
  {
   "cell_type": "markdown",
   "metadata": {},
   "source": [
    "### (e) Apply a Jarque-Bera normality test on the fracdiff series."
   ]
  },
  {
   "cell_type": "code",
   "execution_count": 45,
   "metadata": {},
   "outputs": [
    {
     "name": "stdout",
     "output_type": "stream",
     "text": [
      "p-value:  0.0\n",
      "The series is not normally distributed\n"
     ]
    }
   ],
   "source": [
    "jb_pval = stats.jarque_bera(dfx2)[1]\n",
    "print(\"p-value: \", jb_pval)\n",
    "if jb_pval < 0.05:\n",
    "    print(\"The series is not normally distributed\")\n",
    "else:\n",
    "    print(\"The series is normally distributed\")"
   ]
  },
  {
   "cell_type": "code",
   "execution_count": 46,
   "metadata": {},
   "outputs": [
    {
     "data": {
      "text/plain": [
       "0.9400002590332018"
      ]
     },
     "execution_count": 46,
     "metadata": {},
     "output_type": "execute_result"
    }
   ],
   "source": [
    "dfx2 = -dfx2[~dfx2.index.duplicated()]\n",
    "\n",
    "ffd_std = dfx2.std()[0]\n",
    "\n",
    "ffd_std"
   ]
  },
  {
   "cell_type": "code",
   "execution_count": 48,
   "metadata": {},
   "outputs": [],
   "source": [
    "def getTEvents2(gRaw, h, symmetric = True, isReturn = False):\n",
    "    \"\"\"\n",
    "    Symmetric CUSUM Filter\n",
    "    Sample a bar t iff S_t >= h at which point S_t is reset\n",
    "    Multiple events are not triggered by gRaw hovering around a threshold level\n",
    "    It will require a full run of length h for gRaw to trigger an event\n",
    "    \n",
    "    Two arguments:\n",
    "        gRaw: the raw time series we wish to filter (gRaw), e.g. return\n",
    "        h: threshold\n",
    "        \n",
    "    Return:\n",
    "        pd.DatatimeIndex.append(tEvents): \n",
    "    \"\"\"\n",
    "    tEvents, sPos, sNeg = [], 0, 0\n",
    "    if isReturn:\n",
    "        diff = gRaw\n",
    "    else:\n",
    "        diff = gRaw.diff()\n",
    "    if symmetric:\n",
    "        if np.shape(h) == ():\n",
    "\n",
    "            for i in diff.index[1:]:\n",
    "                tmp = diff.loc[i].mean()\n",
    "                sPos, sNeg = max(0,sPos+tmp), min(0,sNeg+tmp)\n",
    "                if sNeg < -h and tradableHour(i):\n",
    "                    sNeg = 0; tEvents.append(i)\n",
    "                elif sPos > h and tradableHour(i):\n",
    "                    sPos = 0; tEvents.append(i)\n",
    "        else:\n",
    "            for i in diff.index[1:]:\n",
    "                tmp = diff.loc[i].mean()\n",
    "                sPos, sNeg = max(0,sPos+tmp), min(0,sNeg+tmp)\n",
    "                if sNeg < -h[i] and tradableHour(i):\n",
    "                    sNeg = 0; tEvents.append(i)\n",
    "                elif sPos > h[i] and tradableHour(i):\n",
    "                    sPos = 0; tEvents.append(i)\n",
    "    else:\n",
    "        if np.shape(h) == ():\n",
    "\n",
    "            for i in diff.index[1:]:\n",
    "                tmp = diff.loc[i].mean()\n",
    "                sAbs = sAbs+tmp\n",
    "                if sAbs > h and tradableHour(i):\n",
    "                    sNeg = 0; tEvents.append(i)\n",
    "                \n",
    "        else:\n",
    "            for i in diff.index[1:]:\n",
    "                tmp = diff.loc[i].mean()\n",
    "                sAbs = sAbs+tmp\n",
    "                if sAbs > h[i] and tradableHour(i):\n",
    "                    sNeg = 0; tEvents.append(i)\n",
    "            \n",
    "    return pd.DatetimeIndex(tEvents)"
   ]
  },
  {
   "cell_type": "code",
   "execution_count": 49,
   "metadata": {},
   "outputs": [
    {
     "name": "stdout",
     "output_type": "stream",
     "text": [
      "-------------------------------------------------------------------------------\n",
      "dataframe information\n",
      "-------------------------------------------------------------------------------\n",
      "                        dbars  frac_diff_feat\n",
      "dates                                        \n",
      "2018-10-02 11:49:10  116.4980        4.754773\n",
      "2018-10-02 12:12:54  116.5699       -0.000617\n",
      "2018-10-04 13:44:24  116.1600       -4.754977\n",
      "2018-10-04 13:54:45  116.0337        4.755023\n",
      "2018-10-04 14:01:44  116.0100        0.000204\n",
      "--------------------------------------------------\n",
      "<class 'pandas.core.frame.DataFrame'>\n",
      "DatetimeIndex: 1675 entries, 2009-11-03 11:20:59 to 2018-10-04 14:01:44\n",
      "Data columns (total 2 columns):\n",
      "dbars             1675 non-null float64\n",
      "frac_diff_feat    1675 non-null float64\n",
      "dtypes: float64(2)\n",
      "memory usage: 39.3 KB\n",
      "None\n",
      "-------------------------------------------------------------------------------\n",
      "\n"
     ]
    }
   ],
   "source": [
    "tEvents = getTEvents2(dfx2,h=ffd_std)\n",
    "dbars_feat = dbars.price.loc[tEvents]\n",
    "frac_diff_feat = dfx2.loc[tEvents]\n",
    "ftMtx = (pd.DataFrame()\n",
    "         .assign(dbars=dbars_feat,\n",
    "                 frac_diff_feat=frac_diff_feat)\n",
    "         .drop_duplicates().dropna())\n",
    "cprint(ftMtx)"
   ]
  },
  {
   "cell_type": "code",
   "execution_count": 50,
   "metadata": {
    "scrolled": true
   },
   "outputs": [
    {
     "name": "stderr",
     "output_type": "stream",
     "text": [
      "2018-10-27 23:25:22.456428 14.29% applyPtSlOnT1 done after 0.0 minutes. Remaining 0.03 minutes.\r",
      "2018-10-27 23:25:22.566598 28.57% applyPtSlOnT1 done after 0.01 minutes. Remaining 0.02 minutes.\r",
      "2018-10-27 23:25:22.567096 42.86% applyPtSlOnT1 done after 0.01 minutes. Remaining 0.01 minutes.\r",
      "2018-10-27 23:25:22.581758 57.14% applyPtSlOnT1 done after 0.01 minutes. Remaining 0.01 minutes.\r",
      "2018-10-27 23:25:22.582005 71.43% applyPtSlOnT1 done after 0.01 minutes. Remaining 0.0 minutes.\r",
      "2018-10-27 23:25:22.583042 85.71% applyPtSlOnT1 done after 0.01 minutes. Remaining 0.0 minutes.\r",
      "2018-10-27 23:25:22.583273 100.0% applyPtSlOnT1 done after 0.01 minutes. Remaining 0.0 minutes.\n"
     ]
    }
   ],
   "source": [
    "def getDailyVol2(close,span0=100):\n",
    "    # daily vol reindexed to close\n",
    "    df0=close.index.searchsorted(close.index-pd.Timedelta(days=1))\n",
    "    #bp()\n",
    "    df0=df0[df0>0]\n",
    "    #bp()\n",
    "    df0=(pd.Series(close.index[df0-1],\n",
    "                   index=close.index[close.shape[0]-df0.shape[0]:]))\n",
    "    #bp()\n",
    "    try:\n",
    "        df0=close.loc[df0.index]/close.loc[df0.values].values-1 # daily rets\n",
    "    except Exception as e:\n",
    "        print(e)\n",
    "        print('adjusting shape of close.loc[df0.index]')\n",
    "        cut = close.loc[df0.index].shape[0] - close.loc[df0.values].shape[0]\n",
    "        # I dont't think it make sense\n",
    "        df0=close.loc[df0.index].iloc[:-cut]/close.loc[df0.values].values-1\n",
    "    df0=df0.ewm(span=span0).std().rename('dailyVol')\n",
    "    return df0\n",
    "\n",
    "\n",
    "ftMtx = ftMtx[~ftMtx.index.duplicated()]\n",
    "dailyVol = getDailyVol2(ftMtx.dbars)\n",
    "t1 = addVerticalBarrier(tEvents, ftMtx.dbars, hour=120)\n",
    "\n",
    "ptsl = [1,1]\n",
    "#ptsl = [daily]\n",
    "target=dailyVol*2\n",
    "# select minRet\n",
    "minRet = 0.01\n",
    "# get cpu count - 1\n",
    "cpus = cpu_count() - 1\n",
    "events = getEvents(ftMtx.dbars,tEvents,ptsl,target,minRet,cpus,t1=t1)\n"
   ]
  },
  {
   "cell_type": "code",
   "execution_count": 51,
   "metadata": {},
   "outputs": [
    {
     "name": "stderr",
     "output_type": "stream",
     "text": [
      "2018-10-27 23:25:23.103380 100.0% mpNumCoEvents done after 0.0 minutes. Remaining 0.0 minutes..\n",
      "2018-10-27 23:25:23.359580 100.0% mpSampleTW done after 0.0 minutes. Remaining 0.0 minutes..\n"
     ]
    },
    {
     "name": "stdout",
     "output_type": "stream",
     "text": [
      "dropped label:  0.0 0.0012353304508956147\n"
     ]
    },
    {
     "name": "stderr",
     "output_type": "stream",
     "text": [
      "2018-10-27 23:25:23.575896 14.29% mpSampleW done after 0.0 minutes. Remaining 0.01 minutes.\r",
      "2018-10-27 23:25:23.610475 28.57% mpSampleW done after 0.0 minutes. Remaining 0.01 minutes.\r",
      "2018-10-27 23:25:23.611045 42.86% mpSampleW done after 0.0 minutes. Remaining 0.0 minutes.\r",
      "2018-10-27 23:25:23.614325 57.14% mpSampleW done after 0.0 minutes. Remaining 0.0 minutes.\r",
      "2018-10-27 23:25:23.615178 71.43% mpSampleW done after 0.0 minutes. Remaining 0.0 minutes.\r",
      "2018-10-27 23:25:23.615996 85.71% mpSampleW done after 0.0 minutes. Remaining 0.0 minutes.\r",
      "2018-10-27 23:25:23.617505 100.0% mpSampleW done after 0.0 minutes. Remaining 0.0 minutes.\n"
     ]
    }
   ],
   "source": [
    "close=ftMtx.dbars\n",
    "out = get_Concur_Uniqueness(close,events,cpus)\n",
    "labels = getBins(events, ftMtx.dbars)\n",
    "clean_labels = dropLabels(labels)\n",
    "# get avg uniqueness for bootstrapping\n",
    "\n",
    "avgU = out['tW'].mean()"
   ]
  },
  {
   "cell_type": "code",
   "execution_count": 52,
   "metadata": {},
   "outputs": [],
   "source": [
    "from sklearn.model_selection import train_test_split\n",
    "from sklearn.tree import DecisionTreeClassifier\n",
    "from sklearn.ensemble import RandomForestClassifier, RandomForestRegressor, BaggingClassifier"
   ]
  },
  {
   "cell_type": "code",
   "execution_count": 53,
   "metadata": {},
   "outputs": [],
   "source": [
    "def evaluate(X,y,clf):\n",
    "    from sklearn import metrics\n",
    "    # The random forest model by itself\n",
    "    y_pred_rf = clf.predict_proba(X)[:, 1]\n",
    "    y_pred = clf.predict(X)\n",
    "    fpr_rf, tpr_rf, _ = metrics.roc_curve(y, y_pred_rf)\n",
    "    print(metrics.classification_report(y, y_pred))\n",
    "\n",
    "    plt.figure(figsize=(9,6))\n",
    "    plt.plot([0, 1], [0, 1], 'k--')\n",
    "    plt.plot(fpr_rf, tpr_rf, label='clf')\n",
    "    plt.xlabel('False positive rate')\n",
    "    plt.ylabel('True positive rate')\n",
    "    plt.title('ROC curve')\n",
    "    plt.legend(loc='best')\n",
    "    plt.show()"
   ]
  },
  {
   "cell_type": "code",
   "execution_count": 68,
   "metadata": {},
   "outputs": [],
   "source": [
    "trgt = clean_labels.bin\n",
    "# model data# model  \n",
    "data = ftMtx.join(out,how='left').join(trgt,how='left').dropna()\n",
    "data_ = data.drop(['t1'],axis = 1)\n",
    "X = data_.iloc[:,:-1].values\n",
    "y = data_.iloc[:,-1].values.reshape(-1,1)\n"
   ]
  },
  {
   "cell_type": "code",
   "execution_count": 58,
   "metadata": {},
   "outputs": [
    {
     "name": "stdout",
     "output_type": "stream",
     "text": [
      "              precision    recall  f1-score   support\n",
      "\n",
      "        -1.0       0.58      0.26      0.36       184\n",
      "         1.0       0.66      0.88      0.76       302\n",
      "\n",
      "   micro avg       0.65      0.65      0.65       486\n",
      "   macro avg       0.62      0.57      0.56       486\n",
      "weighted avg       0.63      0.65      0.61       486\n",
      "\n"
     ]
    },
    {
     "data": {
      "image/png": "[encoded data removed]",
      "text/plain": [
       "<Figure size 648x432 with 1 Axes>"
      ]
     },
     "metadata": {
      "needs_background": "light"
     },
     "output_type": "display_data"
    }
   ],
   "source": [
    "X_train, X_test, y_train, y_test = train_test_split(X, y, test_size=0.3, random_state=RANDOM_STATE)\n",
    "\n",
    "base_clf = DecisionTreeClassifier(criterion='entropy',max_features='auto',\n",
    "                                  class_weight='balanced')\n",
    "bc = BaggingClassifier(base_estimator=base_clf,n_estimators=1000,\n",
    "                       max_samples=avgU,max_features=1.,random_state=RANDOM_STATE)\n",
    "\n",
    "bc_fit  =  bc.fit(X_train, y_train)\n",
    "evaluate(X_test,y_test,bc_fit)"
   ]
  },
  {
   "cell_type": "code",
   "execution_count": 59,
   "metadata": {},
   "outputs": [
    {
     "name": "stdout",
     "output_type": "stream",
     "text": [
      "              precision    recall  f1-score   support\n",
      "\n",
      "        -1.0       0.59      0.26      0.36       184\n",
      "         1.0       0.66      0.89      0.76       302\n",
      "\n",
      "   micro avg       0.65      0.65      0.65       486\n",
      "   macro avg       0.63      0.57      0.56       486\n",
      "weighted avg       0.63      0.65      0.61       486\n",
      "\n"
     ]
    },
    {
     "data": {
      "image/png": "[encoded data removed]",
      "text/plain": [
       "<Figure size 648x432 with 1 Axes>"
      ]
     },
     "metadata": {
      "needs_background": "light"
     },
     "output_type": "display_data"
    }
   ],
   "source": [
    "\n",
    "rf_clf  =  RandomForestClassifier(n_estimators=2,\n",
    "                                class_weight='balanced_subsample',\n",
    "                                criterion='entropy', \n",
    "                                bootstrap=False)\n",
    "bc_rf = BaggingClassifier(base_estimator=rf_clf, n_estimators=1000,\n",
    "                          max_samples=avgU, max_features=1., \n",
    "                          random_state=RANDOM_STATE)\n",
    "\n",
    "rf_fit = bc_rf.fit(X_train,y_train)\n",
    "evaluate(X_test,y_test,rf_fit)"
   ]
  },
  {
   "cell_type": "code",
   "execution_count": 60,
   "metadata": {},
   "outputs": [
    {
     "name": "stdout",
     "output_type": "stream",
     "text": [
      "              precision    recall  f1-score   support\n",
      "\n",
      "        -1.0       0.48      0.20      0.28       184\n",
      "         1.0       0.64      0.87      0.74       302\n",
      "\n",
      "   micro avg       0.62      0.62      0.62       486\n",
      "   macro avg       0.56      0.53      0.51       486\n",
      "weighted avg       0.58      0.62      0.57       486\n",
      "\n"
     ]
    },
    {
     "data": {
      "image/png": "[encoded data removed]",
      "text/plain": [
       "<Figure size 648x432 with 1 Axes>"
      ]
     },
     "metadata": {
      "needs_background": "light"
     },
     "output_type": "display_data"
    }
   ],
   "source": [
    "from sklearn.preprocessing import StandardScaler\n",
    "stdsc = StandardScaler()\n",
    "X_train_std = stdsc.fit_transform(X_train)\n",
    "X_test_std = stdsc.fit_transform(X_test)\n",
    "\n",
    "bc_std_fit = bc.fit(X_train_std,y_train)\n",
    "evaluate(X_test_std, y_test, bc_std_fit)"
   ]
  },
  {
   "cell_type": "code",
   "execution_count": 62,
   "metadata": {},
   "outputs": [
    {
     "name": "stdout",
     "output_type": "stream",
     "text": [
      "              precision    recall  f1-score   support\n",
      "\n",
      "        -1.0       0.49      0.19      0.27       184\n",
      "         1.0       0.64      0.88      0.74       302\n",
      "\n",
      "   micro avg       0.62      0.62      0.62       486\n",
      "   macro avg       0.56      0.53      0.51       486\n",
      "weighted avg       0.58      0.62      0.56       486\n",
      "\n"
     ]
    },
    {
     "data": {
      "image/png": "[encoded data removed]",
      "text/plain": [
       "<Figure size 648x432 with 1 Axes>"
      ]
     },
     "metadata": {
      "needs_background": "light"
     },
     "output_type": "display_data"
    }
   ],
   "source": [
    "rf_std_fit = bc_rf.fit(X_train_std,y_train)\n",
    "evaluate(X_test_std, y_test,rf_std_fit)"
   ]
  },
  {
   "cell_type": "code",
   "execution_count": 63,
   "metadata": {},
   "outputs": [],
   "source": [
    "from cvFin import *"
   ]
  },
  {
   "cell_type": "code",
   "execution_count": 145,
   "metadata": {},
   "outputs": [
    {
     "data": {
      "text/plain": [
       "array([-9.79523937])"
      ]
     },
     "execution_count": 145,
     "metadata": {},
     "output_type": "execute_result"
    }
   ],
   "source": [
    "data = ftMtx.join(out,how='left').join(trgt,how='left').dropna()\n",
    "data_ = data.drop(['t1'],axis = 1)\n",
    "X = data_.iloc[:,:-1].values\n",
    "y = data_.iloc[:,-1].values.reshape(-1,1)\n",
    "XX = data_.iloc[:,:-1]\n",
    "yy = data_.iloc[:,-1]\n",
    "cvScore(rf_clf, X = XX, y = yy,\n",
    "        sample_weight = XX['w'], scoring = 'neg_log_loss', t1 = data.t1, cvGen = None, cv = 10,pctEmbargo = 0.01)"
   ]
  },
  {
   "cell_type": "code",
   "execution_count": null,
   "metadata": {},
   "outputs": [],
   "source": []
  },
  {
   "cell_type": "code",
   "execution_count": null,
   "metadata": {},
   "outputs": [],
   "source": []
  }
 ],
 "metadata": {
  "kernelspec": {
   "display_name": "Python [default]",
   "language": "python",
   "name": "python3"
  },
  "language_info": {
   "codemirror_mode": {
    "name": "ipython",
    "version": 3
   },
   "file_extension": ".py",
   "mimetype": "text/x-python",
   "name": "python",
   "nbconvert_exporter": "python",
   "pygments_lexer": "ipython3",
   "version": "3.6.6"
  }
 },
 "nbformat": 4,
 "nbformat_minor": 2
}
